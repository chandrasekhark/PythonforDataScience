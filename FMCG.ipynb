{
  "nbformat": 4,
  "nbformat_minor": 0,
  "metadata": {
    "colab": {
      "name": "FMCG.ipynb",
      "provenance": [],
      "authorship_tag": "ABX9TyOMmAyRWTgb53XKXWdDA5Ic",
      "include_colab_link": true
    },
    "kernelspec": {
      "name": "python3",
      "display_name": "Python 3"
    },
    "language_info": {
      "name": "python"
    }
  },
  "cells": [
    {
      "cell_type": "markdown",
      "metadata": {
        "id": "view-in-github",
        "colab_type": "text"
      },
      "source": [
        "<a href=\"https://colab.research.google.com/github/chandrasekhark/PythonforDataScience/blob/main/FMCG.ipynb\" target=\"_parent\"><img src=\"https://colab.research.google.com/assets/colab-badge.svg\" alt=\"Open In Colab\"/></a>"
      ]
    },
    {
      "cell_type": "code",
      "metadata": {
        "id": "To8oe7x-_jJX"
      },
      "source": [
        "import numpy as np\n",
        "import pandas as pd\n",
        "import matplotlib.pyplot as plt\n",
        "import seaborn as sns\n",
        "import sklearn\n",
        "\n",
        "from sklearn.decomposition import PCA\n",
        "from sklearn.cluster import KMeans"
      ],
      "execution_count": null,
      "outputs": []
    },
    {
      "cell_type": "code",
      "metadata": {
        "id": "0jDSfEbyAU1a"
      },
      "source": [
        "df = pd.read_csv(r'/content/Project_Data_1.csv', index_col=0, thousands  = ',')"
      ],
      "execution_count": null,
      "outputs": []
    },
    {
      "cell_type": "code",
      "metadata": {
        "colab": {
          "base_uri": "https://localhost:8080/",
          "height": 237
        },
        "id": "Ymr2FZ6oz0MH",
        "outputId": "7acc1453-bb4f-4d07-dd5e-bf5b8c7d634f"
      },
      "source": [
        "df.index.names = ['country']\n",
        "df.columns.names = ['year']\n",
        "df.head()"
      ],
      "execution_count": null,
      "outputs": [
        {
          "output_type": "execute_result",
          "data": {
            "text/html": [
              "<div>\n",
              "<style scoped>\n",
              "    .dataframe tbody tr th:only-of-type {\n",
              "        vertical-align: middle;\n",
              "    }\n",
              "\n",
              "    .dataframe tbody tr th {\n",
              "        vertical-align: top;\n",
              "    }\n",
              "\n",
              "    .dataframe thead th {\n",
              "        text-align: right;\n",
              "    }\n",
              "</style>\n",
              "<table border=\"1\" class=\"dataframe\">\n",
              "  <thead>\n",
              "    <tr style=\"text-align: right;\">\n",
              "      <th>year</th>\n",
              "      <th>1990</th>\n",
              "      <th>1991</th>\n",
              "      <th>1992</th>\n",
              "      <th>1993</th>\n",
              "      <th>1994</th>\n",
              "      <th>1995</th>\n",
              "      <th>1996</th>\n",
              "      <th>1997</th>\n",
              "      <th>1998</th>\n",
              "      <th>1999</th>\n",
              "      <th>2000</th>\n",
              "      <th>2001</th>\n",
              "      <th>2002</th>\n",
              "      <th>2003</th>\n",
              "      <th>2004</th>\n",
              "      <th>2005</th>\n",
              "      <th>2006</th>\n",
              "      <th>2007</th>\n",
              "    </tr>\n",
              "    <tr>\n",
              "      <th>country</th>\n",
              "      <th></th>\n",
              "      <th></th>\n",
              "      <th></th>\n",
              "      <th></th>\n",
              "      <th></th>\n",
              "      <th></th>\n",
              "      <th></th>\n",
              "      <th></th>\n",
              "      <th></th>\n",
              "      <th></th>\n",
              "      <th></th>\n",
              "      <th></th>\n",
              "      <th></th>\n",
              "      <th></th>\n",
              "      <th></th>\n",
              "      <th></th>\n",
              "      <th></th>\n",
              "      <th></th>\n",
              "    </tr>\n",
              "  </thead>\n",
              "  <tbody>\n",
              "    <tr>\n",
              "      <th>Afghanistan</th>\n",
              "      <td>436</td>\n",
              "      <td>429</td>\n",
              "      <td>422</td>\n",
              "      <td>415</td>\n",
              "      <td>407</td>\n",
              "      <td>397</td>\n",
              "      <td>397</td>\n",
              "      <td>387</td>\n",
              "      <td>374</td>\n",
              "      <td>373</td>\n",
              "      <td>346</td>\n",
              "      <td>326</td>\n",
              "      <td>304</td>\n",
              "      <td>308</td>\n",
              "      <td>283</td>\n",
              "      <td>267</td>\n",
              "      <td>251</td>\n",
              "      <td>238</td>\n",
              "    </tr>\n",
              "    <tr>\n",
              "      <th>Albania</th>\n",
              "      <td>42</td>\n",
              "      <td>40</td>\n",
              "      <td>41</td>\n",
              "      <td>42</td>\n",
              "      <td>42</td>\n",
              "      <td>43</td>\n",
              "      <td>42</td>\n",
              "      <td>44</td>\n",
              "      <td>43</td>\n",
              "      <td>42</td>\n",
              "      <td>40</td>\n",
              "      <td>34</td>\n",
              "      <td>32</td>\n",
              "      <td>32</td>\n",
              "      <td>29</td>\n",
              "      <td>29</td>\n",
              "      <td>26</td>\n",
              "      <td>22</td>\n",
              "    </tr>\n",
              "    <tr>\n",
              "      <th>Algeria</th>\n",
              "      <td>45</td>\n",
              "      <td>44</td>\n",
              "      <td>44</td>\n",
              "      <td>43</td>\n",
              "      <td>43</td>\n",
              "      <td>42</td>\n",
              "      <td>43</td>\n",
              "      <td>44</td>\n",
              "      <td>45</td>\n",
              "      <td>46</td>\n",
              "      <td>48</td>\n",
              "      <td>49</td>\n",
              "      <td>50</td>\n",
              "      <td>51</td>\n",
              "      <td>52</td>\n",
              "      <td>53</td>\n",
              "      <td>55</td>\n",
              "      <td>56</td>\n",
              "    </tr>\n",
              "    <tr>\n",
              "      <th>American Samoa</th>\n",
              "      <td>42</td>\n",
              "      <td>14</td>\n",
              "      <td>4</td>\n",
              "      <td>18</td>\n",
              "      <td>17</td>\n",
              "      <td>22</td>\n",
              "      <td>0</td>\n",
              "      <td>25</td>\n",
              "      <td>12</td>\n",
              "      <td>8</td>\n",
              "      <td>8</td>\n",
              "      <td>6</td>\n",
              "      <td>5</td>\n",
              "      <td>6</td>\n",
              "      <td>9</td>\n",
              "      <td>11</td>\n",
              "      <td>9</td>\n",
              "      <td>5</td>\n",
              "    </tr>\n",
              "    <tr>\n",
              "      <th>Andorra</th>\n",
              "      <td>39</td>\n",
              "      <td>37</td>\n",
              "      <td>35</td>\n",
              "      <td>33</td>\n",
              "      <td>32</td>\n",
              "      <td>30</td>\n",
              "      <td>28</td>\n",
              "      <td>23</td>\n",
              "      <td>24</td>\n",
              "      <td>22</td>\n",
              "      <td>20</td>\n",
              "      <td>20</td>\n",
              "      <td>21</td>\n",
              "      <td>18</td>\n",
              "      <td>19</td>\n",
              "      <td>18</td>\n",
              "      <td>17</td>\n",
              "      <td>19</td>\n",
              "    </tr>\n",
              "  </tbody>\n",
              "</table>\n",
              "</div>"
            ],
            "text/plain": [
              "year            1990  1991  1992  1993  1994  ...  2003  2004  2005  2006  2007\n",
              "country                                       ...                              \n",
              "Afghanistan      436   429   422   415   407  ...   308   283   267   251   238\n",
              "Albania           42    40    41    42    42  ...    32    29    29    26    22\n",
              "Algeria           45    44    44    43    43  ...    51    52    53    55    56\n",
              "American Samoa    42    14     4    18    17  ...     6     9    11     9     5\n",
              "Andorra           39    37    35    33    32  ...    18    19    18    17    19\n",
              "\n",
              "[5 rows x 18 columns]"
            ]
          },
          "metadata": {},
          "execution_count": 382
        }
      ]
    },
    {
      "cell_type": "code",
      "metadata": {
        "colab": {
          "base_uri": "https://localhost:8080/"
        },
        "id": "X7D0k-MpAyAS",
        "outputId": "67f70ac3-5035-4a01-e296-0ba2e02d7194"
      },
      "source": [
        "df.shape"
      ],
      "execution_count": null,
      "outputs": [
        {
          "output_type": "execute_result",
          "data": {
            "text/plain": [
              "(207, 18)"
            ]
          },
          "metadata": {},
          "execution_count": 383
        }
      ]
    },
    {
      "cell_type": "code",
      "metadata": {
        "colab": {
          "base_uri": "https://localhost:8080/"
        },
        "id": "Fs9k4Kb8A2ba",
        "outputId": "05b35957-edba-46fb-bf73-d51372c8abb6"
      },
      "source": [
        "df.isna().sum()"
      ],
      "execution_count": null,
      "outputs": [
        {
          "output_type": "execute_result",
          "data": {
            "text/plain": [
              "year\n",
              "1990    0\n",
              "1991    0\n",
              "1992    0\n",
              "1993    0\n",
              "1994    0\n",
              "1995    0\n",
              "1996    0\n",
              "1997    0\n",
              "1998    0\n",
              "1999    0\n",
              "2000    0\n",
              "2001    0\n",
              "2002    0\n",
              "2003    0\n",
              "2004    0\n",
              "2005    0\n",
              "2006    0\n",
              "2007    0\n",
              "dtype: int64"
            ]
          },
          "metadata": {},
          "execution_count": 384
        }
      ]
    },
    {
      "cell_type": "code",
      "metadata": {
        "colab": {
          "base_uri": "https://localhost:8080/",
          "height": 320
        },
        "id": "RfYVsf9lA490",
        "outputId": "7a9c068e-6148-444b-a2e6-405969bce2f7"
      },
      "source": [
        "df.describe()"
      ],
      "execution_count": null,
      "outputs": [
        {
          "output_type": "execute_result",
          "data": {
            "text/html": [
              "<div>\n",
              "<style scoped>\n",
              "    .dataframe tbody tr th:only-of-type {\n",
              "        vertical-align: middle;\n",
              "    }\n",
              "\n",
              "    .dataframe tbody tr th {\n",
              "        vertical-align: top;\n",
              "    }\n",
              "\n",
              "    .dataframe thead th {\n",
              "        text-align: right;\n",
              "    }\n",
              "</style>\n",
              "<table border=\"1\" class=\"dataframe\">\n",
              "  <thead>\n",
              "    <tr style=\"text-align: right;\">\n",
              "      <th>year</th>\n",
              "      <th>1990</th>\n",
              "      <th>1991</th>\n",
              "      <th>1992</th>\n",
              "      <th>1993</th>\n",
              "      <th>1994</th>\n",
              "      <th>1995</th>\n",
              "      <th>1996</th>\n",
              "      <th>1997</th>\n",
              "      <th>1998</th>\n",
              "      <th>1999</th>\n",
              "      <th>2000</th>\n",
              "      <th>2001</th>\n",
              "      <th>2002</th>\n",
              "      <th>2003</th>\n",
              "      <th>2004</th>\n",
              "      <th>2005</th>\n",
              "      <th>2006</th>\n",
              "      <th>2007</th>\n",
              "    </tr>\n",
              "  </thead>\n",
              "  <tbody>\n",
              "    <tr>\n",
              "      <th>count</th>\n",
              "      <td>207.000000</td>\n",
              "      <td>207.000000</td>\n",
              "      <td>207.000000</td>\n",
              "      <td>207.000000</td>\n",
              "      <td>207.000000</td>\n",
              "      <td>207.000000</td>\n",
              "      <td>207.000000</td>\n",
              "      <td>207.000000</td>\n",
              "      <td>207.000000</td>\n",
              "      <td>207.000000</td>\n",
              "      <td>207.000000</td>\n",
              "      <td>207.000000</td>\n",
              "      <td>207.000000</td>\n",
              "      <td>207.000000</td>\n",
              "      <td>207.000000</td>\n",
              "      <td>207.000000</td>\n",
              "      <td>207.000000</td>\n",
              "      <td>207.000000</td>\n",
              "    </tr>\n",
              "    <tr>\n",
              "      <th>mean</th>\n",
              "      <td>196.966184</td>\n",
              "      <td>196.468599</td>\n",
              "      <td>192.811594</td>\n",
              "      <td>191.173913</td>\n",
              "      <td>188.724638</td>\n",
              "      <td>187.942029</td>\n",
              "      <td>178.898551</td>\n",
              "      <td>180.975845</td>\n",
              "      <td>178.120773</td>\n",
              "      <td>180.473430</td>\n",
              "      <td>177.521739</td>\n",
              "      <td>177.797101</td>\n",
              "      <td>179.516908</td>\n",
              "      <td>176.405797</td>\n",
              "      <td>173.922705</td>\n",
              "      <td>171.183575</td>\n",
              "      <td>169.019324</td>\n",
              "      <td>167.256039</td>\n",
              "    </tr>\n",
              "    <tr>\n",
              "      <th>std</th>\n",
              "      <td>232.385067</td>\n",
              "      <td>229.329664</td>\n",
              "      <td>224.805522</td>\n",
              "      <td>220.093799</td>\n",
              "      <td>216.750218</td>\n",
              "      <td>212.477587</td>\n",
              "      <td>193.786752</td>\n",
              "      <td>192.272421</td>\n",
              "      <td>188.843079</td>\n",
              "      <td>195.062942</td>\n",
              "      <td>199.438504</td>\n",
              "      <td>205.102644</td>\n",
              "      <td>205.321624</td>\n",
              "      <td>210.272545</td>\n",
              "      <td>210.486938</td>\n",
              "      <td>211.218437</td>\n",
              "      <td>211.057714</td>\n",
              "      <td>212.246576</td>\n",
              "    </tr>\n",
              "    <tr>\n",
              "      <th>min</th>\n",
              "      <td>0.000000</td>\n",
              "      <td>3.000000</td>\n",
              "      <td>3.000000</td>\n",
              "      <td>3.000000</td>\n",
              "      <td>0.000000</td>\n",
              "      <td>3.000000</td>\n",
              "      <td>0.000000</td>\n",
              "      <td>0.000000</td>\n",
              "      <td>0.000000</td>\n",
              "      <td>0.000000</td>\n",
              "      <td>0.000000</td>\n",
              "      <td>0.000000</td>\n",
              "      <td>2.000000</td>\n",
              "      <td>0.000000</td>\n",
              "      <td>0.000000</td>\n",
              "      <td>0.000000</td>\n",
              "      <td>0.000000</td>\n",
              "      <td>0.000000</td>\n",
              "    </tr>\n",
              "    <tr>\n",
              "      <th>25%</th>\n",
              "      <td>42.000000</td>\n",
              "      <td>40.000000</td>\n",
              "      <td>37.500000</td>\n",
              "      <td>37.000000</td>\n",
              "      <td>34.000000</td>\n",
              "      <td>32.500000</td>\n",
              "      <td>31.500000</td>\n",
              "      <td>29.500000</td>\n",
              "      <td>29.000000</td>\n",
              "      <td>28.000000</td>\n",
              "      <td>21.500000</td>\n",
              "      <td>22.500000</td>\n",
              "      <td>24.500000</td>\n",
              "      <td>20.500000</td>\n",
              "      <td>21.000000</td>\n",
              "      <td>19.500000</td>\n",
              "      <td>18.000000</td>\n",
              "      <td>19.000000</td>\n",
              "    </tr>\n",
              "    <tr>\n",
              "      <th>50%</th>\n",
              "      <td>96.000000</td>\n",
              "      <td>93.000000</td>\n",
              "      <td>91.000000</td>\n",
              "      <td>88.000000</td>\n",
              "      <td>89.000000</td>\n",
              "      <td>92.000000</td>\n",
              "      <td>88.000000</td>\n",
              "      <td>93.000000</td>\n",
              "      <td>90.000000</td>\n",
              "      <td>90.000000</td>\n",
              "      <td>85.000000</td>\n",
              "      <td>80.000000</td>\n",
              "      <td>79.000000</td>\n",
              "      <td>71.000000</td>\n",
              "      <td>71.000000</td>\n",
              "      <td>66.000000</td>\n",
              "      <td>65.000000</td>\n",
              "      <td>65.000000</td>\n",
              "    </tr>\n",
              "    <tr>\n",
              "      <th>75%</th>\n",
              "      <td>290.000000</td>\n",
              "      <td>315.500000</td>\n",
              "      <td>320.000000</td>\n",
              "      <td>316.500000</td>\n",
              "      <td>314.000000</td>\n",
              "      <td>310.500000</td>\n",
              "      <td>306.500000</td>\n",
              "      <td>320.500000</td>\n",
              "      <td>323.000000</td>\n",
              "      <td>345.500000</td>\n",
              "      <td>319.500000</td>\n",
              "      <td>309.000000</td>\n",
              "      <td>306.000000</td>\n",
              "      <td>297.500000</td>\n",
              "      <td>287.500000</td>\n",
              "      <td>282.500000</td>\n",
              "      <td>277.500000</td>\n",
              "      <td>278.000000</td>\n",
              "    </tr>\n",
              "    <tr>\n",
              "      <th>max</th>\n",
              "      <td>1485.000000</td>\n",
              "      <td>1477.000000</td>\n",
              "      <td>1463.000000</td>\n",
              "      <td>1442.000000</td>\n",
              "      <td>1414.000000</td>\n",
              "      <td>1381.000000</td>\n",
              "      <td>910.000000</td>\n",
              "      <td>853.000000</td>\n",
              "      <td>777.000000</td>\n",
              "      <td>770.000000</td>\n",
              "      <td>761.000000</td>\n",
              "      <td>832.000000</td>\n",
              "      <td>932.000000</td>\n",
              "      <td>960.000000</td>\n",
              "      <td>1034.000000</td>\n",
              "      <td>1046.000000</td>\n",
              "      <td>1093.000000</td>\n",
              "      <td>1104.000000</td>\n",
              "    </tr>\n",
              "  </tbody>\n",
              "</table>\n",
              "</div>"
            ],
            "text/plain": [
              "year          1990         1991  ...         2006         2007\n",
              "count   207.000000   207.000000  ...   207.000000   207.000000\n",
              "mean    196.966184   196.468599  ...   169.019324   167.256039\n",
              "std     232.385067   229.329664  ...   211.057714   212.246576\n",
              "min       0.000000     3.000000  ...     0.000000     0.000000\n",
              "25%      42.000000    40.000000  ...    18.000000    19.000000\n",
              "50%      96.000000    93.000000  ...    65.000000    65.000000\n",
              "75%     290.000000   315.500000  ...   277.500000   278.000000\n",
              "max    1485.000000  1477.000000  ...  1093.000000  1104.000000\n",
              "\n",
              "[8 rows x 18 columns]"
            ]
          },
          "metadata": {},
          "execution_count": 385
        }
      ]
    },
    {
      "cell_type": "code",
      "metadata": {
        "colab": {
          "base_uri": "https://localhost:8080/"
        },
        "id": "QTyqt3E7BDhj",
        "outputId": "8c1640c1-46fa-480a-b159-ce7693ba7739"
      },
      "source": [
        "df.nunique()"
      ],
      "execution_count": null,
      "outputs": [
        {
          "output_type": "execute_result",
          "data": {
            "text/plain": [
              "year\n",
              "1990    153\n",
              "1991    157\n",
              "1992    156\n",
              "1993    149\n",
              "1994    154\n",
              "1995    155\n",
              "1996    149\n",
              "1997    146\n",
              "1998    155\n",
              "1999    146\n",
              "2000    145\n",
              "2001    147\n",
              "2002    144\n",
              "2003    147\n",
              "2004    139\n",
              "2005    137\n",
              "2006    139\n",
              "2007    135\n",
              "dtype: int64"
            ]
          },
          "metadata": {},
          "execution_count": 386
        }
      ]
    },
    {
      "cell_type": "code",
      "metadata": {
        "colab": {
          "base_uri": "https://localhost:8080/"
        },
        "id": "VJb3VEPKLrhk",
        "outputId": "6dda50fb-7702-4d6d-8dd5-304a6dfc5227"
      },
      "source": [
        "df.info()"
      ],
      "execution_count": null,
      "outputs": [
        {
          "output_type": "stream",
          "name": "stdout",
          "text": [
            "<class 'pandas.core.frame.DataFrame'>\n",
            "Index: 207 entries, Afghanistan to Zimbabwe\n",
            "Data columns (total 18 columns):\n",
            " #   Column  Non-Null Count  Dtype\n",
            "---  ------  --------------  -----\n",
            " 0   1990    207 non-null    int64\n",
            " 1   1991    207 non-null    int64\n",
            " 2   1992    207 non-null    int64\n",
            " 3   1993    207 non-null    int64\n",
            " 4   1994    207 non-null    int64\n",
            " 5   1995    207 non-null    int64\n",
            " 6   1996    207 non-null    int64\n",
            " 7   1997    207 non-null    int64\n",
            " 8   1998    207 non-null    int64\n",
            " 9   1999    207 non-null    int64\n",
            " 10  2000    207 non-null    int64\n",
            " 11  2001    207 non-null    int64\n",
            " 12  2002    207 non-null    int64\n",
            " 13  2003    207 non-null    int64\n",
            " 14  2004    207 non-null    int64\n",
            " 15  2005    207 non-null    int64\n",
            " 16  2006    207 non-null    int64\n",
            " 17  2007    207 non-null    int64\n",
            "dtypes: int64(18)\n",
            "memory usage: 30.7+ KB\n"
          ]
        }
      ]
    },
    {
      "cell_type": "code",
      "metadata": {
        "colab": {
          "base_uri": "https://localhost:8080/",
          "height": 1000
        },
        "id": "Yl_faJH5renp",
        "outputId": "94bed47d-a180-4912-fe26-cd93a0aef9a1"
      },
      "source": [
        "numerics = ['int16', 'int32', 'int64', 'float16', 'float32', 'float64']\n",
        "\n",
        "# subplots, \n",
        "df1 = df.select_dtypes(include=numerics)\n",
        "for column in df1.columns.tolist():\n",
        "    plt.figure()\n",
        "    df.boxplot([column])"
      ],
      "execution_count": null,
      "outputs": [
        {
          "output_type": "display_data",
          "data": {
            "image/png": "[encoded data removed]",
            "text/plain": [
              "<Figure size 432x288 with 1 Axes>"
            ]
          },
          "metadata": {
            "needs_background": "light"
          }
        },
        {
          "output_type": "display_data",
          "data": {
            "image/png": "[encoded data removed]",
            "text/plain": [
              "<Figure size 432x288 with 1 Axes>"
            ]
          },
          "metadata": {
            "needs_background": "light"
          }
        },
        {
          "output_type": "display_data",
          "data": {
            "image/png": "[encoded data removed]",
            "text/plain": [
              "<Figure size 432x288 with 1 Axes>"
            ]
          },
          "metadata": {
            "needs_background": "light"
          }
        },
        {
          "output_type": "display_data",
          "data": {
            "image/png": "[encoded data removed]",
            "text/plain": [
              "<Figure size 432x288 with 1 Axes>"
            ]
          },
          "metadata": {
            "needs_background": "light"
          }
        },
        {
          "output_type": "display_data",
          "data": {
            "image/png": "[encoded data removed]",
            "text/plain": [
              "<Figure size 432x288 with 1 Axes>"
            ]
          },
          "metadata": {
            "needs_background": "light"
          }
        },
        {
          "output_type": "display_data",
          "data": {
            "image/png": "[encoded data removed]",
            "text/plain": [
              "<Figure size 432x288 with 1 Axes>"
            ]
          },
          "metadata": {
            "needs_background": "light"
          }
        },
        {
          "output_type": "display_data",
          "data": {
            "image/png": "[encoded data removed]",
            "text/plain": [
              "<Figure size 432x288 with 1 Axes>"
            ]
          },
          "metadata": {
            "needs_background": "light"
          }
        },
        {
          "output_type": "display_data",
          "data": {
            "image/png": "[encoded data removed]",
            "text/plain": [
              "<Figure size 432x288 with 1 Axes>"
            ]
          },
          "metadata": {
            "needs_background": "light"
          }
        },
        {
          "output_type": "display_data",
          "data": {
            "image/png": "[encoded data removed]",
            "text/plain": [
              "<Figure size 432x288 with 1 Axes>"
            ]
          },
          "metadata": {
            "needs_background": "light"
          }
        },
        {
          "output_type": "display_data",
          "data": {
            "image/png": "[encoded data removed]",
            "text/plain": [
              "<Figure size 432x288 with 1 Axes>"
            ]
          },
          "metadata": {
            "needs_background": "light"
          }
        },
        {
          "output_type": "display_data",
          "data": {
            "image/png": "[encoded data removed]",
            "text/plain": [
              "<Figure size 432x288 with 1 Axes>"
            ]
          },
          "metadata": {
            "needs_background": "light"
          }
        },
        {
          "output_type": "display_data",
          "data": {
            "image/png": "[encoded data removed]",
            "text/plain": [
              "<Figure size 432x288 with 1 Axes>"
            ]
          },
          "metadata": {
            "needs_background": "light"
          }
        },
        {
          "output_type": "display_data",
          "data": {
            "image/png": "[encoded data removed]",
            "text/plain": [
              "<Figure size 432x288 with 1 Axes>"
            ]
          },
          "metadata": {
            "needs_background": "light"
          }
        },
        {
          "output_type": "display_data",
          "data": {
            "image/png": "[encoded data removed]",
            "text/plain": [
              "<Figure size 432x288 with 1 Axes>"
            ]
          },
          "metadata": {
            "needs_background": "light"
          }
        },
        {
          "output_type": "display_data",
          "data": {
            "image/png": "[encoded data removed]",
            "text/plain": [
              "<Figure size 432x288 with 1 Axes>"
            ]
          },
          "metadata": {
            "needs_background": "light"
          }
        },
        {
          "output_type": "display_data",
          "data": {
            "image/png": "[encoded data removed]",
            "text/plain": [
              "<Figure size 432x288 with 1 Axes>"
            ]
          },
          "metadata": {
            "needs_background": "light"
          }
        },
        {
          "output_type": "display_data",
          "data": {
            "image/png": "[encoded data removed]",
            "text/plain": [
              "<Figure size 432x288 with 1 Axes>"
            ]
          },
          "metadata": {
            "needs_background": "light"
          }
        },
        {
          "output_type": "display_data",
          "data": {
            "image/png": "[encoded data removed]",
            "text/plain": [
              "<Figure size 432x288 with 1 Axes>"
            ]
          },
          "metadata": {
            "needs_background": "light"
          }
        }
      ]
    },
    {
      "cell_type": "code",
      "metadata": {
        "colab": {
          "base_uri": "https://localhost:8080/",
          "height": 627
        },
        "id": "q3HGF_fvr0sD",
        "outputId": "9a60b4fd-c2ea-42b6-f808-15aff0864886"
      },
      "source": [
        "plt.figure(figsize = (20,10))\n",
        "sns.heatmap(df.corr().abs(), annot = True)"
      ],
      "execution_count": null,
      "outputs": [
        {
          "output_type": "execute_result",
          "data": {
            "text/plain": [
              "<matplotlib.axes._subplots.AxesSubplot at 0x7fb45a2ebc50>"
            ]
          },
          "metadata": {},
          "execution_count": 389
        },
        {
          "output_type": "display_data",
          "data": {
            "image/png": "[encoded data removed]",
            "text/plain": [
              "<Figure size 1440x720 with 2 Axes>"
            ]
          },
          "metadata": {
            "needs_background": "light"
          }
        }
      ]
    },
    {
      "cell_type": "markdown",
      "metadata": {
        "id": "PPw2P5hD593t"
      },
      "source": [
        "Which algorithm should be applied here?\n",
        "\n",
        "Principal Components Analysis is the best algorithm."
      ]
    },
    {
      "cell_type": "code",
      "metadata": {
        "id": "d4qwtSjBKvqy"
      },
      "source": [
        "#apply PCA first\n",
        "pca = PCA(n_components=2)\n",
        "pca_data = pca.fit(df).transform(df)"
      ],
      "execution_count": null,
      "outputs": []
    },
    {
      "cell_type": "code",
      "metadata": {
        "colab": {
          "base_uri": "https://localhost:8080/",
          "height": 237
        },
        "id": "oOuf5JHWMrXf",
        "outputId": "5f63de01-4ece-4eaf-b462-4434029aaa32"
      },
      "source": [
        "X = pd.DataFrame(pca_data, columns=['PCA1','PCA2'])\n",
        "X.index = df.index\n",
        "X.head()"
      ],
      "execution_count": null,
      "outputs": [
        {
          "output_type": "execute_result",
          "data": {
            "text/html": [
              "<div>\n",
              "<style scoped>\n",
              "    .dataframe tbody tr th:only-of-type {\n",
              "        vertical-align: middle;\n",
              "    }\n",
              "\n",
              "    .dataframe tbody tr th {\n",
              "        vertical-align: top;\n",
              "    }\n",
              "\n",
              "    .dataframe thead th {\n",
              "        text-align: right;\n",
              "    }\n",
              "</style>\n",
              "<table border=\"1\" class=\"dataframe\">\n",
              "  <thead>\n",
              "    <tr style=\"text-align: right;\">\n",
              "      <th></th>\n",
              "      <th>PCA1</th>\n",
              "      <th>PCA2</th>\n",
              "    </tr>\n",
              "    <tr>\n",
              "      <th>country</th>\n",
              "      <th></th>\n",
              "      <th></th>\n",
              "    </tr>\n",
              "  </thead>\n",
              "  <tbody>\n",
              "    <tr>\n",
              "      <th>Afghanistan</th>\n",
              "      <td>732.215864</td>\n",
              "      <td>203.381494</td>\n",
              "    </tr>\n",
              "    <tr>\n",
              "      <th>Albania</th>\n",
              "      <td>-613.296510</td>\n",
              "      <td>4.715978</td>\n",
              "    </tr>\n",
              "    <tr>\n",
              "      <th>Algeria</th>\n",
              "      <td>-569.303713</td>\n",
              "      <td>-36.837051</td>\n",
              "    </tr>\n",
              "    <tr>\n",
              "      <th>American Samoa</th>\n",
              "      <td>-717.082766</td>\n",
              "      <td>5.464696</td>\n",
              "    </tr>\n",
              "    <tr>\n",
              "      <th>Andorra</th>\n",
              "      <td>-661.802241</td>\n",
              "      <td>11.037736</td>\n",
              "    </tr>\n",
              "  </tbody>\n",
              "</table>\n",
              "</div>"
            ],
            "text/plain": [
              "                      PCA1        PCA2\n",
              "country                               \n",
              "Afghanistan     732.215864  203.381494\n",
              "Albania        -613.296510    4.715978\n",
              "Algeria        -569.303713  -36.837051\n",
              "American Samoa -717.082766    5.464696\n",
              "Andorra        -661.802241   11.037736"
            ]
          },
          "metadata": {},
          "execution_count": 391
        }
      ]
    },
    {
      "cell_type": "code",
      "metadata": {
        "colab": {
          "base_uri": "https://localhost:8080/"
        },
        "id": "wx-g8driNj62",
        "outputId": "12da3be7-1ba4-4d32-bad7-79e1a7b2e38a"
      },
      "source": [
        "print('PCA Variance and ratio:', pca.explained_variance_,pca.explained_variance_ratio_)"
      ],
      "execution_count": null,
      "outputs": [
        {
          "output_type": "stream",
          "name": "stdout",
          "text": [
            "PCA Variance and ratio: [727732.11575889  48000.35713839] [0.91808789 0.060556  ]\n"
          ]
        }
      ]
    },
    {
      "cell_type": "code",
      "metadata": {
        "id": "qWarHAKGRU8g"
      },
      "source": [
        "wcss = []\n",
        "for i in range(1,11):\n",
        "  km = KMeans(n_clusters = i)\n",
        "  km.fit(X) # unsupervised learning \n",
        "  wcss.append(km.inertia_)"
      ],
      "execution_count": null,
      "outputs": []
    },
    {
      "cell_type": "code",
      "metadata": {
        "colab": {
          "base_uri": "https://localhost:8080/",
          "height": 399
        },
        "id": "KvOJd4NARkpb",
        "outputId": "2e808254-81c6-4a78-9db4-f3a3daeef6f5"
      },
      "source": [
        "# the elbow curve \n",
        "\n",
        "plt.figure(figsize=(12,6))\n",
        "plt.plot(range(1,11),wcss, linewidth=2, color=\"red\", marker =\"8\")\n",
        "plt.xlabel(\"No. of clusters (K)\")\n",
        "plt.xticks(np.arange(1,11,1))\n",
        "plt.ylabel(\"WCSS\")\n",
        "plt.show()"
      ],
      "execution_count": null,
      "outputs": [
        {
          "output_type": "display_data",
          "data": {
            "image/png": "[encoded data removed]",
            "text/plain": [
              "<Figure size 864x432 with 1 Axes>"
            ]
          },
          "metadata": {
            "needs_background": "light"
          }
        }
      ]
    },
    {
      "cell_type": "code",
      "metadata": {
        "colab": {
          "base_uri": "https://localhost:8080/"
        },
        "id": "rA1P3mkJSC2_",
        "outputId": "4ed8ff0b-0188-4396-c058-94bd151e4bda"
      },
      "source": [
        "# number of clusters = 3\n",
        "#call\n",
        "km1 = KMeans(n_clusters = 3)\n",
        "#fit\n",
        "km1.fit(X)\n",
        "\n",
        "#predict\n",
        "y = km1.predict(X)\n",
        "\n",
        "\n",
        "print(y)"
      ],
      "execution_count": null,
      "outputs": [
        {
          "output_type": "stream",
          "name": "stdout",
          "text": [
            "[0 1 1 1 1 0 1 1 1 1 1 1 1 1 1 2 1 1 1 1 1 1 2 0 1 0 1 1 1 1 0 0 2 1 1 0 1\n",
            " 0 0 1 0 1 1 0 1 1 1 1 1 1 0 2 0 1 2 1 1 1 1 1 0 1 1 0 1 1 1 1 0 0 1 1 0 1\n",
            " 1 1 1 0 0 1 0 1 1 1 0 0 1 1 1 1 1 1 1 1 1 0 2 1 1 0 1 1 0 0 1 1 1 0 0 1 1\n",
            " 2 1 2 1 1 1 1 0 1 1 0 0 2 1 0 1 1 1 1 1 0 0 1 1 1 1 0 1 1 0 1 0 2 1 1 1 1\n",
            " 1 1 1 1 0 1 1 1 1 1 0 1 0 1 2 1 1 1 0 0 2 1 1 0 1 2 1 1 1 1 0 1 2 2 1 1 1\n",
            " 1 1 1 1 0 0 1 1 1 0 1 1 1 1 1 1 0 1 1 1 2 0]\n"
          ]
        }
      ]
    },
    {
      "cell_type": "code",
      "metadata": {
        "colab": {
          "base_uri": "https://localhost:8080/"
        },
        "id": "iFZT2aSbXYAM",
        "outputId": "bffd3bf0-6886-46ff-b549-866ac26615fe"
      },
      "source": [
        "#cluster centers\n",
        "print(km1.cluster_centers_)"
      ],
      "execution_count": null,
      "outputs": [
        {
          "output_type": "stream",
          "name": "stdout",
          "text": [
            "[[ 818.40566987  -80.66376278]\n",
            " [-515.89907824   13.52152289]\n",
            " [1988.84290863  132.91583826]]\n"
          ]
        }
      ]
    },
    {
      "cell_type": "code",
      "metadata": {
        "colab": {
          "base_uri": "https://localhost:8080/",
          "height": 237
        },
        "id": "gl0fWpYIYrnA",
        "outputId": "d74e7026-6ee5-4714-87b8-b012ff02b4c5"
      },
      "source": [
        "#adding cluster column\n",
        "df1 = X\n",
        "df1['label'] = y\n",
        "df1.head()"
      ],
      "execution_count": null,
      "outputs": [
        {
          "output_type": "execute_result",
          "data": {
            "text/html": [
              "<div>\n",
              "<style scoped>\n",
              "    .dataframe tbody tr th:only-of-type {\n",
              "        vertical-align: middle;\n",
              "    }\n",
              "\n",
              "    .dataframe tbody tr th {\n",
              "        vertical-align: top;\n",
              "    }\n",
              "\n",
              "    .dataframe thead th {\n",
              "        text-align: right;\n",
              "    }\n",
              "</style>\n",
              "<table border=\"1\" class=\"dataframe\">\n",
              "  <thead>\n",
              "    <tr style=\"text-align: right;\">\n",
              "      <th></th>\n",
              "      <th>PCA1</th>\n",
              "      <th>PCA2</th>\n",
              "      <th>label</th>\n",
              "    </tr>\n",
              "    <tr>\n",
              "      <th>country</th>\n",
              "      <th></th>\n",
              "      <th></th>\n",
              "      <th></th>\n",
              "    </tr>\n",
              "  </thead>\n",
              "  <tbody>\n",
              "    <tr>\n",
              "      <th>Afghanistan</th>\n",
              "      <td>732.215864</td>\n",
              "      <td>203.381494</td>\n",
              "      <td>0</td>\n",
              "    </tr>\n",
              "    <tr>\n",
              "      <th>Albania</th>\n",
              "      <td>-613.296510</td>\n",
              "      <td>4.715978</td>\n",
              "      <td>1</td>\n",
              "    </tr>\n",
              "    <tr>\n",
              "      <th>Algeria</th>\n",
              "      <td>-569.303713</td>\n",
              "      <td>-36.837051</td>\n",
              "      <td>1</td>\n",
              "    </tr>\n",
              "    <tr>\n",
              "      <th>American Samoa</th>\n",
              "      <td>-717.082766</td>\n",
              "      <td>5.464696</td>\n",
              "      <td>1</td>\n",
              "    </tr>\n",
              "    <tr>\n",
              "      <th>Andorra</th>\n",
              "      <td>-661.802241</td>\n",
              "      <td>11.037736</td>\n",
              "      <td>1</td>\n",
              "    </tr>\n",
              "  </tbody>\n",
              "</table>\n",
              "</div>"
            ],
            "text/plain": [
              "                      PCA1        PCA2  label\n",
              "country                                      \n",
              "Afghanistan     732.215864  203.381494      0\n",
              "Albania        -613.296510    4.715978      1\n",
              "Algeria        -569.303713  -36.837051      1\n",
              "American Samoa -717.082766    5.464696      1\n",
              "Andorra        -661.802241   11.037736      1"
            ]
          },
          "metadata": {},
          "execution_count": 397
        }
      ]
    },
    {
      "cell_type": "code",
      "metadata": {
        "colab": {
          "base_uri": "https://localhost:8080/",
          "height": 404
        },
        "id": "VBwuNwOubY7S",
        "outputId": "7a7c49bb-1dcf-4579-f8f4-f2796cce6945"
      },
      "source": [
        "#Scatterplot of the clusters\n",
        "plt.figure(figsize=(10,6))\n",
        "sns.scatterplot(x = 'PCA1',y = 'PCA2',hue=\"label\",  \n",
        "                 palette=['green','orange','brown'], legend='full',data = df1  ,s = 60 )\n",
        "plt.xlabel('PCA1')\n",
        "plt.ylabel('PCA2') \n",
        "plt.title('PCA1 vs PCA2')\n",
        "plt.show()"
      ],
      "execution_count": null,
      "outputs": [
        {
          "output_type": "display_data",
          "data": {
            "image/png": "[encoded data removed]",
            "text/plain": [
              "<Figure size 720x432 with 1 Axes>"
            ]
          },
          "metadata": {
            "needs_background": "light"
          }
        }
      ]
    },
    {
      "cell_type": "code",
      "metadata": {
        "id": "Fzw5yALRch1f"
      },
      "source": [
        "#adding label column to the original data\n",
        "df['label']=y"
      ],
      "execution_count": null,
      "outputs": []
    },
    {
      "cell_type": "code",
      "metadata": {
        "colab": {
          "base_uri": "https://localhost:8080/",
          "height": 237
        },
        "id": "M2e9xbQrcz_h",
        "outputId": "c064ac38-1067-4d03-b0a2-317c66cfa742"
      },
      "source": [
        "df.head()"
      ],
      "execution_count": null,
      "outputs": [
        {
          "output_type": "execute_result",
          "data": {
            "text/html": [
              "<div>\n",
              "<style scoped>\n",
              "    .dataframe tbody tr th:only-of-type {\n",
              "        vertical-align: middle;\n",
              "    }\n",
              "\n",
              "    .dataframe tbody tr th {\n",
              "        vertical-align: top;\n",
              "    }\n",
              "\n",
              "    .dataframe thead th {\n",
              "        text-align: right;\n",
              "    }\n",
              "</style>\n",
              "<table border=\"1\" class=\"dataframe\">\n",
              "  <thead>\n",
              "    <tr style=\"text-align: right;\">\n",
              "      <th>year</th>\n",
              "      <th>1990</th>\n",
              "      <th>1991</th>\n",
              "      <th>1992</th>\n",
              "      <th>1993</th>\n",
              "      <th>1994</th>\n",
              "      <th>1995</th>\n",
              "      <th>1996</th>\n",
              "      <th>1997</th>\n",
              "      <th>1998</th>\n",
              "      <th>1999</th>\n",
              "      <th>2000</th>\n",
              "      <th>2001</th>\n",
              "      <th>2002</th>\n",
              "      <th>2003</th>\n",
              "      <th>2004</th>\n",
              "      <th>2005</th>\n",
              "      <th>2006</th>\n",
              "      <th>2007</th>\n",
              "      <th>label</th>\n",
              "    </tr>\n",
              "    <tr>\n",
              "      <th>country</th>\n",
              "      <th></th>\n",
              "      <th></th>\n",
              "      <th></th>\n",
              "      <th></th>\n",
              "      <th></th>\n",
              "      <th></th>\n",
              "      <th></th>\n",
              "      <th></th>\n",
              "      <th></th>\n",
              "      <th></th>\n",
              "      <th></th>\n",
              "      <th></th>\n",
              "      <th></th>\n",
              "      <th></th>\n",
              "      <th></th>\n",
              "      <th></th>\n",
              "      <th></th>\n",
              "      <th></th>\n",
              "      <th></th>\n",
              "    </tr>\n",
              "  </thead>\n",
              "  <tbody>\n",
              "    <tr>\n",
              "      <th>Afghanistan</th>\n",
              "      <td>436</td>\n",
              "      <td>429</td>\n",
              "      <td>422</td>\n",
              "      <td>415</td>\n",
              "      <td>407</td>\n",
              "      <td>397</td>\n",
              "      <td>397</td>\n",
              "      <td>387</td>\n",
              "      <td>374</td>\n",
              "      <td>373</td>\n",
              "      <td>346</td>\n",
              "      <td>326</td>\n",
              "      <td>304</td>\n",
              "      <td>308</td>\n",
              "      <td>283</td>\n",
              "      <td>267</td>\n",
              "      <td>251</td>\n",
              "      <td>238</td>\n",
              "      <td>0</td>\n",
              "    </tr>\n",
              "    <tr>\n",
              "      <th>Albania</th>\n",
              "      <td>42</td>\n",
              "      <td>40</td>\n",
              "      <td>41</td>\n",
              "      <td>42</td>\n",
              "      <td>42</td>\n",
              "      <td>43</td>\n",
              "      <td>42</td>\n",
              "      <td>44</td>\n",
              "      <td>43</td>\n",
              "      <td>42</td>\n",
              "      <td>40</td>\n",
              "      <td>34</td>\n",
              "      <td>32</td>\n",
              "      <td>32</td>\n",
              "      <td>29</td>\n",
              "      <td>29</td>\n",
              "      <td>26</td>\n",
              "      <td>22</td>\n",
              "      <td>1</td>\n",
              "    </tr>\n",
              "    <tr>\n",
              "      <th>Algeria</th>\n",
              "      <td>45</td>\n",
              "      <td>44</td>\n",
              "      <td>44</td>\n",
              "      <td>43</td>\n",
              "      <td>43</td>\n",
              "      <td>42</td>\n",
              "      <td>43</td>\n",
              "      <td>44</td>\n",
              "      <td>45</td>\n",
              "      <td>46</td>\n",
              "      <td>48</td>\n",
              "      <td>49</td>\n",
              "      <td>50</td>\n",
              "      <td>51</td>\n",
              "      <td>52</td>\n",
              "      <td>53</td>\n",
              "      <td>55</td>\n",
              "      <td>56</td>\n",
              "      <td>1</td>\n",
              "    </tr>\n",
              "    <tr>\n",
              "      <th>American Samoa</th>\n",
              "      <td>42</td>\n",
              "      <td>14</td>\n",
              "      <td>4</td>\n",
              "      <td>18</td>\n",
              "      <td>17</td>\n",
              "      <td>22</td>\n",
              "      <td>0</td>\n",
              "      <td>25</td>\n",
              "      <td>12</td>\n",
              "      <td>8</td>\n",
              "      <td>8</td>\n",
              "      <td>6</td>\n",
              "      <td>5</td>\n",
              "      <td>6</td>\n",
              "      <td>9</td>\n",
              "      <td>11</td>\n",
              "      <td>9</td>\n",
              "      <td>5</td>\n",
              "      <td>1</td>\n",
              "    </tr>\n",
              "    <tr>\n",
              "      <th>Andorra</th>\n",
              "      <td>39</td>\n",
              "      <td>37</td>\n",
              "      <td>35</td>\n",
              "      <td>33</td>\n",
              "      <td>32</td>\n",
              "      <td>30</td>\n",
              "      <td>28</td>\n",
              "      <td>23</td>\n",
              "      <td>24</td>\n",
              "      <td>22</td>\n",
              "      <td>20</td>\n",
              "      <td>20</td>\n",
              "      <td>21</td>\n",
              "      <td>18</td>\n",
              "      <td>19</td>\n",
              "      <td>18</td>\n",
              "      <td>17</td>\n",
              "      <td>19</td>\n",
              "      <td>1</td>\n",
              "    </tr>\n",
              "  </tbody>\n",
              "</table>\n",
              "</div>"
            ],
            "text/plain": [
              "year            1990  1991  1992  1993  1994  ...  2004  2005  2006  2007  label\n",
              "country                                       ...                               \n",
              "Afghanistan      436   429   422   415   407  ...   283   267   251   238      0\n",
              "Albania           42    40    41    42    42  ...    29    29    26    22      1\n",
              "Algeria           45    44    44    43    43  ...    52    53    55    56      1\n",
              "American Samoa    42    14     4    18    17  ...     9    11     9     5      1\n",
              "Andorra           39    37    35    33    32  ...    19    18    17    19      1\n",
              "\n",
              "[5 rows x 19 columns]"
            ]
          },
          "metadata": {},
          "execution_count": 400
        }
      ]
    },
    {
      "cell_type": "code",
      "metadata": {
        "colab": {
          "base_uri": "https://localhost:8080/",
          "height": 237
        },
        "id": "eXAOgUYmc2AM",
        "outputId": "eb390417-6325-4828-9537-421e69eb7452"
      },
      "source": [
        "#Largest importer and constantly increasing\n",
        "df['total'] = df.sum(axis=1)\n",
        "df.head()"
      ],
      "execution_count": null,
      "outputs": [
        {
          "output_type": "execute_result",
          "data": {
            "text/html": [
              "<div>\n",
              "<style scoped>\n",
              "    .dataframe tbody tr th:only-of-type {\n",
              "        vertical-align: middle;\n",
              "    }\n",
              "\n",
              "    .dataframe tbody tr th {\n",
              "        vertical-align: top;\n",
              "    }\n",
              "\n",
              "    .dataframe thead th {\n",
              "        text-align: right;\n",
              "    }\n",
              "</style>\n",
              "<table border=\"1\" class=\"dataframe\">\n",
              "  <thead>\n",
              "    <tr style=\"text-align: right;\">\n",
              "      <th>year</th>\n",
              "      <th>1990</th>\n",
              "      <th>1991</th>\n",
              "      <th>1992</th>\n",
              "      <th>1993</th>\n",
              "      <th>1994</th>\n",
              "      <th>1995</th>\n",
              "      <th>1996</th>\n",
              "      <th>1997</th>\n",
              "      <th>1998</th>\n",
              "      <th>1999</th>\n",
              "      <th>2000</th>\n",
              "      <th>2001</th>\n",
              "      <th>2002</th>\n",
              "      <th>2003</th>\n",
              "      <th>2004</th>\n",
              "      <th>2005</th>\n",
              "      <th>2006</th>\n",
              "      <th>2007</th>\n",
              "      <th>label</th>\n",
              "      <th>total</th>\n",
              "    </tr>\n",
              "    <tr>\n",
              "      <th>country</th>\n",
              "      <th></th>\n",
              "      <th></th>\n",
              "      <th></th>\n",
              "      <th></th>\n",
              "      <th></th>\n",
              "      <th></th>\n",
              "      <th></th>\n",
              "      <th></th>\n",
              "      <th></th>\n",
              "      <th></th>\n",
              "      <th></th>\n",
              "      <th></th>\n",
              "      <th></th>\n",
              "      <th></th>\n",
              "      <th></th>\n",
              "      <th></th>\n",
              "      <th></th>\n",
              "      <th></th>\n",
              "      <th></th>\n",
              "      <th></th>\n",
              "    </tr>\n",
              "  </thead>\n",
              "  <tbody>\n",
              "    <tr>\n",
              "      <th>Afghanistan</th>\n",
              "      <td>436</td>\n",
              "      <td>429</td>\n",
              "      <td>422</td>\n",
              "      <td>415</td>\n",
              "      <td>407</td>\n",
              "      <td>397</td>\n",
              "      <td>397</td>\n",
              "      <td>387</td>\n",
              "      <td>374</td>\n",
              "      <td>373</td>\n",
              "      <td>346</td>\n",
              "      <td>326</td>\n",
              "      <td>304</td>\n",
              "      <td>308</td>\n",
              "      <td>283</td>\n",
              "      <td>267</td>\n",
              "      <td>251</td>\n",
              "      <td>238</td>\n",
              "      <td>0</td>\n",
              "      <td>6360</td>\n",
              "    </tr>\n",
              "    <tr>\n",
              "      <th>Albania</th>\n",
              "      <td>42</td>\n",
              "      <td>40</td>\n",
              "      <td>41</td>\n",
              "      <td>42</td>\n",
              "      <td>42</td>\n",
              "      <td>43</td>\n",
              "      <td>42</td>\n",
              "      <td>44</td>\n",
              "      <td>43</td>\n",
              "      <td>42</td>\n",
              "      <td>40</td>\n",
              "      <td>34</td>\n",
              "      <td>32</td>\n",
              "      <td>32</td>\n",
              "      <td>29</td>\n",
              "      <td>29</td>\n",
              "      <td>26</td>\n",
              "      <td>22</td>\n",
              "      <td>1</td>\n",
              "      <td>666</td>\n",
              "    </tr>\n",
              "    <tr>\n",
              "      <th>Algeria</th>\n",
              "      <td>45</td>\n",
              "      <td>44</td>\n",
              "      <td>44</td>\n",
              "      <td>43</td>\n",
              "      <td>43</td>\n",
              "      <td>42</td>\n",
              "      <td>43</td>\n",
              "      <td>44</td>\n",
              "      <td>45</td>\n",
              "      <td>46</td>\n",
              "      <td>48</td>\n",
              "      <td>49</td>\n",
              "      <td>50</td>\n",
              "      <td>51</td>\n",
              "      <td>52</td>\n",
              "      <td>53</td>\n",
              "      <td>55</td>\n",
              "      <td>56</td>\n",
              "      <td>1</td>\n",
              "      <td>854</td>\n",
              "    </tr>\n",
              "    <tr>\n",
              "      <th>American Samoa</th>\n",
              "      <td>42</td>\n",
              "      <td>14</td>\n",
              "      <td>4</td>\n",
              "      <td>18</td>\n",
              "      <td>17</td>\n",
              "      <td>22</td>\n",
              "      <td>0</td>\n",
              "      <td>25</td>\n",
              "      <td>12</td>\n",
              "      <td>8</td>\n",
              "      <td>8</td>\n",
              "      <td>6</td>\n",
              "      <td>5</td>\n",
              "      <td>6</td>\n",
              "      <td>9</td>\n",
              "      <td>11</td>\n",
              "      <td>9</td>\n",
              "      <td>5</td>\n",
              "      <td>1</td>\n",
              "      <td>222</td>\n",
              "    </tr>\n",
              "    <tr>\n",
              "      <th>Andorra</th>\n",
              "      <td>39</td>\n",
              "      <td>37</td>\n",
              "      <td>35</td>\n",
              "      <td>33</td>\n",
              "      <td>32</td>\n",
              "      <td>30</td>\n",
              "      <td>28</td>\n",
              "      <td>23</td>\n",
              "      <td>24</td>\n",
              "      <td>22</td>\n",
              "      <td>20</td>\n",
              "      <td>20</td>\n",
              "      <td>21</td>\n",
              "      <td>18</td>\n",
              "      <td>19</td>\n",
              "      <td>18</td>\n",
              "      <td>17</td>\n",
              "      <td>19</td>\n",
              "      <td>1</td>\n",
              "      <td>456</td>\n",
              "    </tr>\n",
              "  </tbody>\n",
              "</table>\n",
              "</div>"
            ],
            "text/plain": [
              "year            1990  1991  1992  1993  1994  ...  2005  2006  2007  label  total\n",
              "country                                       ...                                \n",
              "Afghanistan      436   429   422   415   407  ...   267   251   238      0   6360\n",
              "Albania           42    40    41    42    42  ...    29    26    22      1    666\n",
              "Algeria           45    44    44    43    43  ...    53    55    56      1    854\n",
              "American Samoa    42    14     4    18    17  ...    11     9     5      1    222\n",
              "Andorra           39    37    35    33    32  ...    18    17    19      1    456\n",
              "\n",
              "[5 rows x 20 columns]"
            ]
          },
          "metadata": {},
          "execution_count": 401
        }
      ]
    },
    {
      "cell_type": "code",
      "metadata": {
        "colab": {
          "base_uri": "https://localhost:8080/",
          "height": 394
        },
        "id": "Q4_JuBBSqx7Y",
        "outputId": "cb2aee72-4a36-4137-873a-996de9e1f20d"
      },
      "source": [
        "df.sort_values(by='total', ascending=False).nlargest(10, 'total')"
      ],
      "execution_count": null,
      "outputs": [
        {
          "output_type": "execute_result",
          "data": {
            "text/html": [
              "<div>\n",
              "<style scoped>\n",
              "    .dataframe tbody tr th:only-of-type {\n",
              "        vertical-align: middle;\n",
              "    }\n",
              "\n",
              "    .dataframe tbody tr th {\n",
              "        vertical-align: top;\n",
              "    }\n",
              "\n",
              "    .dataframe thead th {\n",
              "        text-align: right;\n",
              "    }\n",
              "</style>\n",
              "<table border=\"1\" class=\"dataframe\">\n",
              "  <thead>\n",
              "    <tr style=\"text-align: right;\">\n",
              "      <th>year</th>\n",
              "      <th>1990</th>\n",
              "      <th>1991</th>\n",
              "      <th>1992</th>\n",
              "      <th>1993</th>\n",
              "      <th>1994</th>\n",
              "      <th>1995</th>\n",
              "      <th>1996</th>\n",
              "      <th>1997</th>\n",
              "      <th>1998</th>\n",
              "      <th>1999</th>\n",
              "      <th>2000</th>\n",
              "      <th>2001</th>\n",
              "      <th>2002</th>\n",
              "      <th>2003</th>\n",
              "      <th>2004</th>\n",
              "      <th>2005</th>\n",
              "      <th>2006</th>\n",
              "      <th>2007</th>\n",
              "      <th>label</th>\n",
              "      <th>total</th>\n",
              "    </tr>\n",
              "    <tr>\n",
              "      <th>country</th>\n",
              "      <th></th>\n",
              "      <th></th>\n",
              "      <th></th>\n",
              "      <th></th>\n",
              "      <th></th>\n",
              "      <th></th>\n",
              "      <th></th>\n",
              "      <th></th>\n",
              "      <th></th>\n",
              "      <th></th>\n",
              "      <th></th>\n",
              "      <th></th>\n",
              "      <th></th>\n",
              "      <th></th>\n",
              "      <th></th>\n",
              "      <th></th>\n",
              "      <th></th>\n",
              "      <th></th>\n",
              "      <th></th>\n",
              "      <th></th>\n",
              "    </tr>\n",
              "  </thead>\n",
              "  <tbody>\n",
              "    <tr>\n",
              "      <th>Djibouti</th>\n",
              "      <td>1485</td>\n",
              "      <td>1477</td>\n",
              "      <td>1463</td>\n",
              "      <td>1442</td>\n",
              "      <td>1414</td>\n",
              "      <td>1381</td>\n",
              "      <td>720</td>\n",
              "      <td>669</td>\n",
              "      <td>698</td>\n",
              "      <td>701</td>\n",
              "      <td>761</td>\n",
              "      <td>775</td>\n",
              "      <td>932</td>\n",
              "      <td>960</td>\n",
              "      <td>1034</td>\n",
              "      <td>1046</td>\n",
              "      <td>1093</td>\n",
              "      <td>1104</td>\n",
              "      <td>2</td>\n",
              "      <td>19157</td>\n",
              "    </tr>\n",
              "    <tr>\n",
              "      <th>Cambodia</th>\n",
              "      <td>928</td>\n",
              "      <td>905</td>\n",
              "      <td>881</td>\n",
              "      <td>858</td>\n",
              "      <td>836</td>\n",
              "      <td>811</td>\n",
              "      <td>810</td>\n",
              "      <td>789</td>\n",
              "      <td>777</td>\n",
              "      <td>764</td>\n",
              "      <td>758</td>\n",
              "      <td>750</td>\n",
              "      <td>728</td>\n",
              "      <td>712</td>\n",
              "      <td>696</td>\n",
              "      <td>676</td>\n",
              "      <td>672</td>\n",
              "      <td>664</td>\n",
              "      <td>2</td>\n",
              "      <td>14017</td>\n",
              "    </tr>\n",
              "    <tr>\n",
              "      <th>Kiribati</th>\n",
              "      <td>1026</td>\n",
              "      <td>1006</td>\n",
              "      <td>986</td>\n",
              "      <td>966</td>\n",
              "      <td>947</td>\n",
              "      <td>928</td>\n",
              "      <td>910</td>\n",
              "      <td>853</td>\n",
              "      <td>571</td>\n",
              "      <td>556</td>\n",
              "      <td>546</td>\n",
              "      <td>607</td>\n",
              "      <td>587</td>\n",
              "      <td>477</td>\n",
              "      <td>439</td>\n",
              "      <td>419</td>\n",
              "      <td>405</td>\n",
              "      <td>423</td>\n",
              "      <td>2</td>\n",
              "      <td>12654</td>\n",
              "    </tr>\n",
              "    <tr>\n",
              "      <th>Korea, Dem. Rep.</th>\n",
              "      <td>841</td>\n",
              "      <td>828</td>\n",
              "      <td>815</td>\n",
              "      <td>802</td>\n",
              "      <td>788</td>\n",
              "      <td>775</td>\n",
              "      <td>775</td>\n",
              "      <td>775</td>\n",
              "      <td>775</td>\n",
              "      <td>770</td>\n",
              "      <td>713</td>\n",
              "      <td>650</td>\n",
              "      <td>577</td>\n",
              "      <td>527</td>\n",
              "      <td>499</td>\n",
              "      <td>508</td>\n",
              "      <td>500</td>\n",
              "      <td>441</td>\n",
              "      <td>2</td>\n",
              "      <td>12361</td>\n",
              "    </tr>\n",
              "    <tr>\n",
              "      <th>Togo</th>\n",
              "      <td>702</td>\n",
              "      <td>687</td>\n",
              "      <td>668</td>\n",
              "      <td>647</td>\n",
              "      <td>628</td>\n",
              "      <td>614</td>\n",
              "      <td>613</td>\n",
              "      <td>658</td>\n",
              "      <td>637</td>\n",
              "      <td>647</td>\n",
              "      <td>656</td>\n",
              "      <td>669</td>\n",
              "      <td>701</td>\n",
              "      <td>693</td>\n",
              "      <td>702</td>\n",
              "      <td>713</td>\n",
              "      <td>726</td>\n",
              "      <td>750</td>\n",
              "      <td>2</td>\n",
              "      <td>12113</td>\n",
              "    </tr>\n",
              "    <tr>\n",
              "      <th>Sierra Leone</th>\n",
              "      <td>465</td>\n",
              "      <td>479</td>\n",
              "      <td>492</td>\n",
              "      <td>504</td>\n",
              "      <td>517</td>\n",
              "      <td>534</td>\n",
              "      <td>525</td>\n",
              "      <td>565</td>\n",
              "      <td>602</td>\n",
              "      <td>636</td>\n",
              "      <td>675</td>\n",
              "      <td>696</td>\n",
              "      <td>743</td>\n",
              "      <td>784</td>\n",
              "      <td>830</td>\n",
              "      <td>866</td>\n",
              "      <td>902</td>\n",
              "      <td>941</td>\n",
              "      <td>2</td>\n",
              "      <td>11758</td>\n",
              "    </tr>\n",
              "    <tr>\n",
              "      <th>Philippines</th>\n",
              "      <td>799</td>\n",
              "      <td>783</td>\n",
              "      <td>766</td>\n",
              "      <td>750</td>\n",
              "      <td>735</td>\n",
              "      <td>719</td>\n",
              "      <td>705</td>\n",
              "      <td>689</td>\n",
              "      <td>669</td>\n",
              "      <td>649</td>\n",
              "      <td>600</td>\n",
              "      <td>578</td>\n",
              "      <td>561</td>\n",
              "      <td>542</td>\n",
              "      <td>534</td>\n",
              "      <td>520</td>\n",
              "      <td>505</td>\n",
              "      <td>500</td>\n",
              "      <td>2</td>\n",
              "      <td>11606</td>\n",
              "    </tr>\n",
              "    <tr>\n",
              "      <th>Swaziland</th>\n",
              "      <td>629</td>\n",
              "      <td>590</td>\n",
              "      <td>527</td>\n",
              "      <td>477</td>\n",
              "      <td>448</td>\n",
              "      <td>441</td>\n",
              "      <td>460</td>\n",
              "      <td>504</td>\n",
              "      <td>556</td>\n",
              "      <td>647</td>\n",
              "      <td>740</td>\n",
              "      <td>832</td>\n",
              "      <td>693</td>\n",
              "      <td>739</td>\n",
              "      <td>776</td>\n",
              "      <td>788</td>\n",
              "      <td>801</td>\n",
              "      <td>812</td>\n",
              "      <td>2</td>\n",
              "      <td>11462</td>\n",
              "    </tr>\n",
              "    <tr>\n",
              "      <th>South Africa</th>\n",
              "      <td>769</td>\n",
              "      <td>726</td>\n",
              "      <td>676</td>\n",
              "      <td>620</td>\n",
              "      <td>562</td>\n",
              "      <td>502</td>\n",
              "      <td>480</td>\n",
              "      <td>466</td>\n",
              "      <td>465</td>\n",
              "      <td>426</td>\n",
              "      <td>515</td>\n",
              "      <td>581</td>\n",
              "      <td>586</td>\n",
              "      <td>649</td>\n",
              "      <td>676</td>\n",
              "      <td>707</td>\n",
              "      <td>690</td>\n",
              "      <td>692</td>\n",
              "      <td>2</td>\n",
              "      <td>10790</td>\n",
              "    </tr>\n",
              "    <tr>\n",
              "      <th>Mauritania</th>\n",
              "      <td>585</td>\n",
              "      <td>587</td>\n",
              "      <td>590</td>\n",
              "      <td>592</td>\n",
              "      <td>594</td>\n",
              "      <td>595</td>\n",
              "      <td>622</td>\n",
              "      <td>615</td>\n",
              "      <td>612</td>\n",
              "      <td>615</td>\n",
              "      <td>619</td>\n",
              "      <td>624</td>\n",
              "      <td>632</td>\n",
              "      <td>642</td>\n",
              "      <td>494</td>\n",
              "      <td>565</td>\n",
              "      <td>556</td>\n",
              "      <td>559</td>\n",
              "      <td>2</td>\n",
              "      <td>10700</td>\n",
              "    </tr>\n",
              "  </tbody>\n",
              "</table>\n",
              "</div>"
            ],
            "text/plain": [
              "year              1990  1991  1992  1993  1994  ...  2005  2006  2007  label  total\n",
              "country                                         ...                                \n",
              "Djibouti          1485  1477  1463  1442  1414  ...  1046  1093  1104      2  19157\n",
              "Cambodia           928   905   881   858   836  ...   676   672   664      2  14017\n",
              "Kiribati          1026  1006   986   966   947  ...   419   405   423      2  12654\n",
              "Korea, Dem. Rep.   841   828   815   802   788  ...   508   500   441      2  12361\n",
              "Togo               702   687   668   647   628  ...   713   726   750      2  12113\n",
              "Sierra Leone       465   479   492   504   517  ...   866   902   941      2  11758\n",
              "Philippines        799   783   766   750   735  ...   520   505   500      2  11606\n",
              "Swaziland          629   590   527   477   448  ...   788   801   812      2  11462\n",
              "South Africa       769   726   676   620   562  ...   707   690   692      2  10790\n",
              "Mauritania         585   587   590   592   594  ...   565   556   559      2  10700\n",
              "\n",
              "[10 rows x 20 columns]"
            ]
          },
          "metadata": {},
          "execution_count": 402
        }
      ]
    },
    {
      "cell_type": "markdown",
      "metadata": {
        "id": "qyQWsii4_m8X"
      },
      "source": [
        "**Sierra Leone is the country has constantly increasing the imports and high total.**\n",
        "\n",
        "Total - 11757"
      ]
    },
    {
      "cell_type": "code",
      "metadata": {
        "colab": {
          "base_uri": "https://localhost:8080/",
          "height": 582
        },
        "id": "tmT3Tq_ttbAt",
        "outputId": "b073c1e1-4ce8-4c01-fb6f-0ff65e9b2eac"
      },
      "source": [
        "label_2 = df.loc[df['label']==2]\n",
        "label_2"
      ],
      "execution_count": null,
      "outputs": [
        {
          "output_type": "execute_result",
          "data": {
            "text/html": [
              "<div>\n",
              "<style scoped>\n",
              "    .dataframe tbody tr th:only-of-type {\n",
              "        vertical-align: middle;\n",
              "    }\n",
              "\n",
              "    .dataframe tbody tr th {\n",
              "        vertical-align: top;\n",
              "    }\n",
              "\n",
              "    .dataframe thead th {\n",
              "        text-align: right;\n",
              "    }\n",
              "</style>\n",
              "<table border=\"1\" class=\"dataframe\">\n",
              "  <thead>\n",
              "    <tr style=\"text-align: right;\">\n",
              "      <th>year</th>\n",
              "      <th>1990</th>\n",
              "      <th>1991</th>\n",
              "      <th>1992</th>\n",
              "      <th>1993</th>\n",
              "      <th>1994</th>\n",
              "      <th>1995</th>\n",
              "      <th>1996</th>\n",
              "      <th>1997</th>\n",
              "      <th>1998</th>\n",
              "      <th>1999</th>\n",
              "      <th>2000</th>\n",
              "      <th>2001</th>\n",
              "      <th>2002</th>\n",
              "      <th>2003</th>\n",
              "      <th>2004</th>\n",
              "      <th>2005</th>\n",
              "      <th>2006</th>\n",
              "      <th>2007</th>\n",
              "      <th>label</th>\n",
              "      <th>total</th>\n",
              "    </tr>\n",
              "    <tr>\n",
              "      <th>country</th>\n",
              "      <th></th>\n",
              "      <th></th>\n",
              "      <th></th>\n",
              "      <th></th>\n",
              "      <th></th>\n",
              "      <th></th>\n",
              "      <th></th>\n",
              "      <th></th>\n",
              "      <th></th>\n",
              "      <th></th>\n",
              "      <th></th>\n",
              "      <th></th>\n",
              "      <th></th>\n",
              "      <th></th>\n",
              "      <th></th>\n",
              "      <th></th>\n",
              "      <th></th>\n",
              "      <th></th>\n",
              "      <th></th>\n",
              "      <th></th>\n",
              "    </tr>\n",
              "  </thead>\n",
              "  <tbody>\n",
              "    <tr>\n",
              "      <th>Bangladesh</th>\n",
              "      <td>639</td>\n",
              "      <td>623</td>\n",
              "      <td>608</td>\n",
              "      <td>594</td>\n",
              "      <td>579</td>\n",
              "      <td>576</td>\n",
              "      <td>550</td>\n",
              "      <td>535</td>\n",
              "      <td>516</td>\n",
              "      <td>492</td>\n",
              "      <td>500</td>\n",
              "      <td>491</td>\n",
              "      <td>478</td>\n",
              "      <td>458</td>\n",
              "      <td>444</td>\n",
              "      <td>416</td>\n",
              "      <td>392</td>\n",
              "      <td>387</td>\n",
              "      <td>2</td>\n",
              "      <td>9280</td>\n",
              "    </tr>\n",
              "    <tr>\n",
              "      <th>Bhutan</th>\n",
              "      <td>924</td>\n",
              "      <td>862</td>\n",
              "      <td>804</td>\n",
              "      <td>750</td>\n",
              "      <td>699</td>\n",
              "      <td>651</td>\n",
              "      <td>620</td>\n",
              "      <td>597</td>\n",
              "      <td>551</td>\n",
              "      <td>538</td>\n",
              "      <td>515</td>\n",
              "      <td>512</td>\n",
              "      <td>472</td>\n",
              "      <td>460</td>\n",
              "      <td>443</td>\n",
              "      <td>412</td>\n",
              "      <td>406</td>\n",
              "      <td>363</td>\n",
              "      <td>2</td>\n",
              "      <td>10581</td>\n",
              "    </tr>\n",
              "    <tr>\n",
              "      <th>Cambodia</th>\n",
              "      <td>928</td>\n",
              "      <td>905</td>\n",
              "      <td>881</td>\n",
              "      <td>858</td>\n",
              "      <td>836</td>\n",
              "      <td>811</td>\n",
              "      <td>810</td>\n",
              "      <td>789</td>\n",
              "      <td>777</td>\n",
              "      <td>764</td>\n",
              "      <td>758</td>\n",
              "      <td>750</td>\n",
              "      <td>728</td>\n",
              "      <td>712</td>\n",
              "      <td>696</td>\n",
              "      <td>676</td>\n",
              "      <td>672</td>\n",
              "      <td>664</td>\n",
              "      <td>2</td>\n",
              "      <td>14017</td>\n",
              "    </tr>\n",
              "    <tr>\n",
              "      <th>Korea, Dem. Rep.</th>\n",
              "      <td>841</td>\n",
              "      <td>828</td>\n",
              "      <td>815</td>\n",
              "      <td>802</td>\n",
              "      <td>788</td>\n",
              "      <td>775</td>\n",
              "      <td>775</td>\n",
              "      <td>775</td>\n",
              "      <td>775</td>\n",
              "      <td>770</td>\n",
              "      <td>713</td>\n",
              "      <td>650</td>\n",
              "      <td>577</td>\n",
              "      <td>527</td>\n",
              "      <td>499</td>\n",
              "      <td>508</td>\n",
              "      <td>500</td>\n",
              "      <td>441</td>\n",
              "      <td>2</td>\n",
              "      <td>12361</td>\n",
              "    </tr>\n",
              "    <tr>\n",
              "      <th>Djibouti</th>\n",
              "      <td>1485</td>\n",
              "      <td>1477</td>\n",
              "      <td>1463</td>\n",
              "      <td>1442</td>\n",
              "      <td>1414</td>\n",
              "      <td>1381</td>\n",
              "      <td>720</td>\n",
              "      <td>669</td>\n",
              "      <td>698</td>\n",
              "      <td>701</td>\n",
              "      <td>761</td>\n",
              "      <td>775</td>\n",
              "      <td>932</td>\n",
              "      <td>960</td>\n",
              "      <td>1034</td>\n",
              "      <td>1046</td>\n",
              "      <td>1093</td>\n",
              "      <td>1104</td>\n",
              "      <td>2</td>\n",
              "      <td>19157</td>\n",
              "    </tr>\n",
              "    <tr>\n",
              "      <th>Kiribati</th>\n",
              "      <td>1026</td>\n",
              "      <td>1006</td>\n",
              "      <td>986</td>\n",
              "      <td>966</td>\n",
              "      <td>947</td>\n",
              "      <td>928</td>\n",
              "      <td>910</td>\n",
              "      <td>853</td>\n",
              "      <td>571</td>\n",
              "      <td>556</td>\n",
              "      <td>546</td>\n",
              "      <td>607</td>\n",
              "      <td>587</td>\n",
              "      <td>477</td>\n",
              "      <td>439</td>\n",
              "      <td>419</td>\n",
              "      <td>405</td>\n",
              "      <td>423</td>\n",
              "      <td>2</td>\n",
              "      <td>12654</td>\n",
              "    </tr>\n",
              "    <tr>\n",
              "      <th>Mali</th>\n",
              "      <td>640</td>\n",
              "      <td>631</td>\n",
              "      <td>621</td>\n",
              "      <td>609</td>\n",
              "      <td>597</td>\n",
              "      <td>583</td>\n",
              "      <td>573</td>\n",
              "      <td>566</td>\n",
              "      <td>565</td>\n",
              "      <td>567</td>\n",
              "      <td>571</td>\n",
              "      <td>573</td>\n",
              "      <td>572</td>\n",
              "      <td>578</td>\n",
              "      <td>584</td>\n",
              "      <td>589</td>\n",
              "      <td>593</td>\n",
              "      <td>599</td>\n",
              "      <td>2</td>\n",
              "      <td>10613</td>\n",
              "    </tr>\n",
              "    <tr>\n",
              "      <th>Mauritania</th>\n",
              "      <td>585</td>\n",
              "      <td>587</td>\n",
              "      <td>590</td>\n",
              "      <td>592</td>\n",
              "      <td>594</td>\n",
              "      <td>595</td>\n",
              "      <td>622</td>\n",
              "      <td>615</td>\n",
              "      <td>612</td>\n",
              "      <td>615</td>\n",
              "      <td>619</td>\n",
              "      <td>624</td>\n",
              "      <td>632</td>\n",
              "      <td>642</td>\n",
              "      <td>494</td>\n",
              "      <td>565</td>\n",
              "      <td>556</td>\n",
              "      <td>559</td>\n",
              "      <td>2</td>\n",
              "      <td>10700</td>\n",
              "    </tr>\n",
              "    <tr>\n",
              "      <th>Namibia</th>\n",
              "      <td>650</td>\n",
              "      <td>685</td>\n",
              "      <td>687</td>\n",
              "      <td>683</td>\n",
              "      <td>671</td>\n",
              "      <td>658</td>\n",
              "      <td>387</td>\n",
              "      <td>395</td>\n",
              "      <td>411</td>\n",
              "      <td>442</td>\n",
              "      <td>481</td>\n",
              "      <td>506</td>\n",
              "      <td>544</td>\n",
              "      <td>560</td>\n",
              "      <td>572</td>\n",
              "      <td>570</td>\n",
              "      <td>556</td>\n",
              "      <td>532</td>\n",
              "      <td>2</td>\n",
              "      <td>9992</td>\n",
              "    </tr>\n",
              "    <tr>\n",
              "      <th>Philippines</th>\n",
              "      <td>799</td>\n",
              "      <td>783</td>\n",
              "      <td>766</td>\n",
              "      <td>750</td>\n",
              "      <td>735</td>\n",
              "      <td>719</td>\n",
              "      <td>705</td>\n",
              "      <td>689</td>\n",
              "      <td>669</td>\n",
              "      <td>649</td>\n",
              "      <td>600</td>\n",
              "      <td>578</td>\n",
              "      <td>561</td>\n",
              "      <td>542</td>\n",
              "      <td>534</td>\n",
              "      <td>520</td>\n",
              "      <td>505</td>\n",
              "      <td>500</td>\n",
              "      <td>2</td>\n",
              "      <td>11606</td>\n",
              "    </tr>\n",
              "    <tr>\n",
              "      <th>Sierra Leone</th>\n",
              "      <td>465</td>\n",
              "      <td>479</td>\n",
              "      <td>492</td>\n",
              "      <td>504</td>\n",
              "      <td>517</td>\n",
              "      <td>534</td>\n",
              "      <td>525</td>\n",
              "      <td>565</td>\n",
              "      <td>602</td>\n",
              "      <td>636</td>\n",
              "      <td>675</td>\n",
              "      <td>696</td>\n",
              "      <td>743</td>\n",
              "      <td>784</td>\n",
              "      <td>830</td>\n",
              "      <td>866</td>\n",
              "      <td>902</td>\n",
              "      <td>941</td>\n",
              "      <td>2</td>\n",
              "      <td>11758</td>\n",
              "    </tr>\n",
              "    <tr>\n",
              "      <th>South Africa</th>\n",
              "      <td>769</td>\n",
              "      <td>726</td>\n",
              "      <td>676</td>\n",
              "      <td>620</td>\n",
              "      <td>562</td>\n",
              "      <td>502</td>\n",
              "      <td>480</td>\n",
              "      <td>466</td>\n",
              "      <td>465</td>\n",
              "      <td>426</td>\n",
              "      <td>515</td>\n",
              "      <td>581</td>\n",
              "      <td>586</td>\n",
              "      <td>649</td>\n",
              "      <td>676</td>\n",
              "      <td>707</td>\n",
              "      <td>690</td>\n",
              "      <td>692</td>\n",
              "      <td>2</td>\n",
              "      <td>10790</td>\n",
              "    </tr>\n",
              "    <tr>\n",
              "      <th>Swaziland</th>\n",
              "      <td>629</td>\n",
              "      <td>590</td>\n",
              "      <td>527</td>\n",
              "      <td>477</td>\n",
              "      <td>448</td>\n",
              "      <td>441</td>\n",
              "      <td>460</td>\n",
              "      <td>504</td>\n",
              "      <td>556</td>\n",
              "      <td>647</td>\n",
              "      <td>740</td>\n",
              "      <td>832</td>\n",
              "      <td>693</td>\n",
              "      <td>739</td>\n",
              "      <td>776</td>\n",
              "      <td>788</td>\n",
              "      <td>801</td>\n",
              "      <td>812</td>\n",
              "      <td>2</td>\n",
              "      <td>11462</td>\n",
              "    </tr>\n",
              "    <tr>\n",
              "      <th>Timor-Leste</th>\n",
              "      <td>706</td>\n",
              "      <td>694</td>\n",
              "      <td>681</td>\n",
              "      <td>669</td>\n",
              "      <td>656</td>\n",
              "      <td>644</td>\n",
              "      <td>644</td>\n",
              "      <td>644</td>\n",
              "      <td>644</td>\n",
              "      <td>644</td>\n",
              "      <td>644</td>\n",
              "      <td>644</td>\n",
              "      <td>345</td>\n",
              "      <td>359</td>\n",
              "      <td>367</td>\n",
              "      <td>370</td>\n",
              "      <td>385</td>\n",
              "      <td>378</td>\n",
              "      <td>2</td>\n",
              "      <td>10120</td>\n",
              "    </tr>\n",
              "    <tr>\n",
              "      <th>Togo</th>\n",
              "      <td>702</td>\n",
              "      <td>687</td>\n",
              "      <td>668</td>\n",
              "      <td>647</td>\n",
              "      <td>628</td>\n",
              "      <td>614</td>\n",
              "      <td>613</td>\n",
              "      <td>658</td>\n",
              "      <td>637</td>\n",
              "      <td>647</td>\n",
              "      <td>656</td>\n",
              "      <td>669</td>\n",
              "      <td>701</td>\n",
              "      <td>693</td>\n",
              "      <td>702</td>\n",
              "      <td>713</td>\n",
              "      <td>726</td>\n",
              "      <td>750</td>\n",
              "      <td>2</td>\n",
              "      <td>12113</td>\n",
              "    </tr>\n",
              "    <tr>\n",
              "      <th>Zambia</th>\n",
              "      <td>436</td>\n",
              "      <td>456</td>\n",
              "      <td>494</td>\n",
              "      <td>526</td>\n",
              "      <td>556</td>\n",
              "      <td>585</td>\n",
              "      <td>602</td>\n",
              "      <td>626</td>\n",
              "      <td>634</td>\n",
              "      <td>657</td>\n",
              "      <td>658</td>\n",
              "      <td>680</td>\n",
              "      <td>517</td>\n",
              "      <td>478</td>\n",
              "      <td>468</td>\n",
              "      <td>453</td>\n",
              "      <td>422</td>\n",
              "      <td>387</td>\n",
              "      <td>2</td>\n",
              "      <td>9637</td>\n",
              "    </tr>\n",
              "  </tbody>\n",
              "</table>\n",
              "</div>"
            ],
            "text/plain": [
              "year              1990  1991  1992  1993  1994  ...  2005  2006  2007  label  total\n",
              "country                                         ...                                \n",
              "Bangladesh         639   623   608   594   579  ...   416   392   387      2   9280\n",
              "Bhutan             924   862   804   750   699  ...   412   406   363      2  10581\n",
              "Cambodia           928   905   881   858   836  ...   676   672   664      2  14017\n",
              "Korea, Dem. Rep.   841   828   815   802   788  ...   508   500   441      2  12361\n",
              "Djibouti          1485  1477  1463  1442  1414  ...  1046  1093  1104      2  19157\n",
              "Kiribati          1026  1006   986   966   947  ...   419   405   423      2  12654\n",
              "Mali               640   631   621   609   597  ...   589   593   599      2  10613\n",
              "Mauritania         585   587   590   592   594  ...   565   556   559      2  10700\n",
              "Namibia            650   685   687   683   671  ...   570   556   532      2   9992\n",
              "Philippines        799   783   766   750   735  ...   520   505   500      2  11606\n",
              "Sierra Leone       465   479   492   504   517  ...   866   902   941      2  11758\n",
              "South Africa       769   726   676   620   562  ...   707   690   692      2  10790\n",
              "Swaziland          629   590   527   477   448  ...   788   801   812      2  11462\n",
              "Timor-Leste        706   694   681   669   656  ...   370   385   378      2  10120\n",
              "Togo               702   687   668   647   628  ...   713   726   750      2  12113\n",
              "Zambia             436   456   494   526   556  ...   453   422   387      2   9637\n",
              "\n",
              "[16 rows x 20 columns]"
            ]
          },
          "metadata": {},
          "execution_count": 403
        }
      ]
    },
    {
      "cell_type": "code",
      "metadata": {
        "colab": {
          "base_uri": "https://localhost:8080/",
          "height": 537
        },
        "id": "3fImfg74tntO",
        "outputId": "e63482f8-3a6c-4d7d-f9b6-575f00f2de05"
      },
      "source": [
        "label_2.loc[:,'1990':'2007'].plot(kind='bar', legend=False, figsize=(15,7))"
      ],
      "execution_count": null,
      "outputs": [
        {
          "output_type": "execute_result",
          "data": {
            "text/plain": [
              "<matplotlib.axes._subplots.AxesSubplot at 0x7fb4553d47d0>"
            ]
          },
          "metadata": {},
          "execution_count": 404
        },
        {
          "output_type": "display_data",
          "data": {
            "image/png": "[encoded data removed]",
            "text/plain": [
              "<Figure size 1080x504 with 1 Axes>"
            ]
          },
          "metadata": {
            "needs_background": "light"
          }
        }
      ]
    },
    {
      "cell_type": "code",
      "metadata": {
        "colab": {
          "base_uri": "https://localhost:8080/",
          "height": 281
        },
        "id": "GDZnI742wA3X",
        "outputId": "3d7ed653-400d-4345-bfdc-4c643162d535"
      },
      "source": [
        "X = df.loc['Sierra Leone'].index[0:18]\n",
        "Y = df.loc['Sierra Leone'].values[0:18]\n",
        "\n",
        "plt.bar(X,Y)\n",
        "plt.setp(plt.gca().get_xticklabels(), rotation=90, horizontalalignment='right')\n",
        "plt.show()"
      ],
      "execution_count": null,
      "outputs": [
        {
          "output_type": "display_data",
          "data": {
            "image/png": "[encoded data removed]",
            "text/plain": [
              "<Figure size 432x288 with 1 Axes>"
            ]
          },
          "metadata": {
            "needs_background": "light"
          }
        }
      ]
    },
    {
      "cell_type": "markdown",
      "metadata": {
        "id": "iaW_gjQo0SYZ"
      },
      "source": [
        "#Which are largest importers and constantly increasing\n",
        "**Sierra Leone**"
      ]
    },
    {
      "cell_type": "code",
      "metadata": {
        "colab": {
          "base_uri": "https://localhost:8080/",
          "height": 281
        },
        "id": "2IDcOGMZx1kS",
        "outputId": "47e65dcb-3cd3-4887-a844-ab712339b7a1"
      },
      "source": [
        "#Most consistent\n",
        "X = df.loc['Monaco'].index[0:18]\n",
        "Y = df.loc['Monaco'].values[0:18]\n",
        "\n",
        "plt.bar(X,Y)\n",
        "plt.setp(plt.gca().get_xticklabels(), rotation=90, horizontalalignment='right')\n",
        "plt.show()"
      ],
      "execution_count": null,
      "outputs": [
        {
          "output_type": "display_data",
          "data": {
            "image/png": "[encoded data removed]",
            "text/plain": [
              "<Figure size 432x288 with 1 Axes>"
            ]
          },
          "metadata": {
            "needs_background": "light"
          }
        }
      ]
    }
  ]
}