{
  "nbformat": 4,
  "nbformat_minor": 0,
  "metadata": {
    "colab": {
      "name": "Python basics.ipynb",
      "provenance": [],
      "authorship_tag": "ABX9TyOjWjY+Vsuy4iYKWYYCEXv+",
      "include_colab_link": true
    },
    "kernelspec": {
      "name": "python3",
      "display_name": "Python 3"
    },
    "language_info": {
      "name": "python"
    }
  },
  "cells": [
    {
      "cell_type": "markdown",
      "metadata": {
        "id": "view-in-github",
        "colab_type": "text"
      },
      "source": [
        "<a href=\"https://colab.research.google.com/github/chandrasekhark/PythonforDataScience/blob/main/Python_basics.ipynb\" target=\"_parent\"><img src=\"https://colab.research.google.com/assets/colab-badge.svg\" alt=\"Open In Colab\"/></a>"
      ]
    },
    {
      "cell_type": "markdown",
      "source": [
        "# **Number**"
      ],
      "metadata": {
        "id": "UKsu_xN9vsbV"
      }
    },
    {
      "cell_type": "markdown",
      "source": [
        "It's Integer/float/others\n",
        "\n",
        "Numbers are immutable"
      ],
      "metadata": {
        "id": "lB47pOmyvxtr"
      }
    },
    {
      "cell_type": "code",
      "execution_count": null,
      "metadata": {
        "id": "ktejS-cqrUo6",
        "outputId": "5640a2ef-4c58-431c-ffe0-6fc47ace99c0",
        "colab": {
          "base_uri": "https://localhost:8080/"
        }
      },
      "outputs": [
        {
          "output_type": "stream",
          "name": "stdout",
          "text": [
            "<class 'int'>\n"
          ]
        }
      ],
      "source": [
        "a = 1\n",
        "print(type(a))"
      ]
    },
    {
      "cell_type": "code",
      "source": [
        "b = 1.2\n",
        "print(type(b))"
      ],
      "metadata": {
        "id": "jveZ7re-sQE2",
        "outputId": "637531f2-bbab-41c1-f029-d94de3818c5f",
        "colab": {
          "base_uri": "https://localhost:8080/"
        }
      },
      "execution_count": null,
      "outputs": [
        {
          "output_type": "stream",
          "name": "stdout",
          "text": [
            "<class 'float'>\n"
          ]
        }
      ]
    },
    {
      "cell_type": "code",
      "source": [
        "c = a * b\n",
        "print(type(c))"
      ],
      "metadata": {
        "id": "DOajbMwSsYKV",
        "outputId": "2e3c1267-6de7-4d74-d248-a28bf1dbfb95",
        "colab": {
          "base_uri": "https://localhost:8080/"
        }
      },
      "execution_count": null,
      "outputs": [
        {
          "output_type": "stream",
          "name": "stdout",
          "text": [
            "<class 'float'>\n"
          ]
        }
      ]
    },
    {
      "cell_type": "code",
      "source": [
        "d = 4\n",
        "e = 2\n",
        "f = d/e\n",
        "print(type(f))"
      ],
      "metadata": {
        "id": "baWcsWcAsdDG",
        "outputId": "6da4834c-c157-4245-8395-57518bffc2a7",
        "colab": {
          "base_uri": "https://localhost:8080/"
        }
      },
      "execution_count": null,
      "outputs": [
        {
          "output_type": "stream",
          "name": "stdout",
          "text": [
            "<class 'float'>\n"
          ]
        }
      ]
    },
    {
      "cell_type": "code",
      "source": [
        "#g = 2 to the power of 8\n",
        "g = 2**8\n",
        "print(g)"
      ],
      "metadata": {
        "id": "AHIfnLEwspb0",
        "outputId": "00161b29-163c-4df2-c559-bfd6d4314af0",
        "colab": {
          "base_uri": "https://localhost:8080/"
        }
      },
      "execution_count": null,
      "outputs": [
        {
          "output_type": "stream",
          "name": "stdout",
          "text": [
            "256\n"
          ]
        }
      ]
    },
    {
      "cell_type": "code",
      "source": [
        "f = 1234\n",
        "print(f[0])\n",
        "f[0] = 3"
      ],
      "metadata": {
        "id": "7KnLiJ-R0tvg",
        "outputId": "3d273d6f-b8d2-43d0-e086-2eb3ee285668",
        "colab": {
          "base_uri": "https://localhost:8080/",
          "height": 201
        }
      },
      "execution_count": null,
      "outputs": [
        {
          "output_type": "error",
          "ename": "TypeError",
          "evalue": "ignored",
          "traceback": [
            "\u001b[0;31m---------------------------------------------------------------------------\u001b[0m",
            "\u001b[0;31mTypeError\u001b[0m                                 Traceback (most recent call last)",
            "\u001b[0;32m<ipython-input-44-8ce6a6e8fa11>\u001b[0m in \u001b[0;36m<module>\u001b[0;34m()\u001b[0m\n\u001b[1;32m      1\u001b[0m \u001b[0mf\u001b[0m \u001b[0;34m=\u001b[0m \u001b[0;36m1234\u001b[0m\u001b[0;34m\u001b[0m\u001b[0;34m\u001b[0m\u001b[0m\n\u001b[0;32m----> 2\u001b[0;31m \u001b[0mprint\u001b[0m\u001b[0;34m(\u001b[0m\u001b[0mf\u001b[0m\u001b[0;34m[\u001b[0m\u001b[0;36m0\u001b[0m\u001b[0;34m]\u001b[0m\u001b[0;34m)\u001b[0m\u001b[0;34m\u001b[0m\u001b[0;34m\u001b[0m\u001b[0m\n\u001b[0m\u001b[1;32m      3\u001b[0m \u001b[0mf\u001b[0m\u001b[0;34m[\u001b[0m\u001b[0;36m0\u001b[0m\u001b[0;34m]\u001b[0m \u001b[0;34m=\u001b[0m \u001b[0;36m3\u001b[0m\u001b[0;34m\u001b[0m\u001b[0;34m\u001b[0m\u001b[0m\n",
            "\u001b[0;31mTypeError\u001b[0m: 'int' object is not subscriptable"
          ]
        }
      ]
    },
    {
      "cell_type": "markdown",
      "source": [
        "# **String**"
      ],
      "metadata": {
        "id": "6sYVTtGiv6HE"
      }
    },
    {
      "cell_type": "markdown",
      "source": [
        "It's character, text data -> ''\n",
        "\n",
        "Strings are immutable"
      ],
      "metadata": {
        "id": "ZRJa7IQ3v-k9"
      }
    },
    {
      "cell_type": "code",
      "source": [
        "b = '8'\n",
        "print(type(b))"
      ],
      "metadata": {
        "id": "0XOHQhVfszg-",
        "outputId": "7be351bd-81bc-4103-bf41-1ec15099e1e6",
        "colab": {
          "base_uri": "https://localhost:8080/"
        }
      },
      "execution_count": null,
      "outputs": [
        {
          "output_type": "stream",
          "name": "stdout",
          "text": [
            "<class 'str'>\n"
          ]
        }
      ]
    },
    {
      "cell_type": "code",
      "source": [
        "print('d is ',d)\n",
        "print('b is ',b)\n",
        "e = d*b\n",
        "print('e is ',e)"
      ],
      "metadata": {
        "id": "Xw6gl1rQs4Ww",
        "outputId": "135a6374-1b14-4821-ca4f-4f1f2e779544",
        "colab": {
          "base_uri": "https://localhost:8080/"
        }
      },
      "execution_count": null,
      "outputs": [
        {
          "output_type": "stream",
          "name": "stdout",
          "text": [
            "d is  4\n",
            "b is  8\n",
            "e is  8888\n"
          ]
        }
      ]
    },
    {
      "cell_type": "code",
      "source": [
        "b = \"8\"\n",
        "print(type(b))"
      ],
      "metadata": {
        "id": "ZfUWnXLWtBTU",
        "outputId": "108f8271-049e-4c06-ae7a-749b93670ee0",
        "colab": {
          "base_uri": "https://localhost:8080/"
        }
      },
      "execution_count": null,
      "outputs": [
        {
          "output_type": "stream",
          "name": "stdout",
          "text": [
            "<class 'str'>\n"
          ]
        }
      ]
    },
    {
      "cell_type": "code",
      "source": [
        "b = '''this is a pyton practice\n",
        "Hi I am Chandrasekhar Kanakala\n",
        "multiple lines I am typing here'''\n",
        "print(b)"
      ],
      "metadata": {
        "id": "Hyhy8YnWtvei",
        "outputId": "091788b7-e201-4f27-fe24-282307c3c137",
        "colab": {
          "base_uri": "https://localhost:8080/"
        }
      },
      "execution_count": null,
      "outputs": [
        {
          "output_type": "stream",
          "name": "stdout",
          "text": [
            "this is a pyton practice\n",
            "Hi I am Chandrasekhar Kanakala\n",
            "multiple lines I am typing here\n"
          ]
        }
      ]
    },
    {
      "cell_type": "code",
      "source": [
        "b[0] = 'a'"
      ],
      "metadata": {
        "id": "DjKe_5700XQK",
        "outputId": "354a5952-d61b-4fa8-deee-b8861601d638",
        "colab": {
          "base_uri": "https://localhost:8080/",
          "height": 166
        }
      },
      "execution_count": null,
      "outputs": [
        {
          "output_type": "error",
          "ename": "TypeError",
          "evalue": "ignored",
          "traceback": [
            "\u001b[0;31m---------------------------------------------------------------------------\u001b[0m",
            "\u001b[0;31mTypeError\u001b[0m                                 Traceback (most recent call last)",
            "\u001b[0;32m<ipython-input-42-a40f9ead6ccf>\u001b[0m in \u001b[0;36m<module>\u001b[0;34m()\u001b[0m\n\u001b[0;32m----> 1\u001b[0;31m \u001b[0mb\u001b[0m\u001b[0;34m[\u001b[0m\u001b[0;36m0\u001b[0m\u001b[0;34m]\u001b[0m \u001b[0;34m=\u001b[0m \u001b[0;34m'a'\u001b[0m\u001b[0;34m\u001b[0m\u001b[0;34m\u001b[0m\u001b[0m\n\u001b[0m",
            "\u001b[0;31mTypeError\u001b[0m: 'str' object does not support item assignment"
          ]
        }
      ]
    },
    {
      "cell_type": "markdown",
      "source": [
        "# **Indexing**"
      ],
      "metadata": {
        "id": "3oAlRd2EuUWF"
      }
    },
    {
      "cell_type": "code",
      "source": [
        "b = 'Data Science'\n",
        "# Extract the word d\n",
        "print(b[0])\n",
        "print(b[1])\n",
        "print(b[2])\n",
        "print(b[3])\n",
        "print(b[4])\n",
        "print(b[5])\n",
        "print(b[6])\n",
        "print(b[7])\n",
        "print(b[8])\n",
        "print(b[9])\n",
        "print(b[10])\n",
        "print(b[11])"
      ],
      "metadata": {
        "id": "We3MiNTRt9ol",
        "outputId": "435b4033-19d6-4a68-b171-05980d0a9797",
        "colab": {
          "base_uri": "https://localhost:8080/"
        }
      },
      "execution_count": null,
      "outputs": [
        {
          "output_type": "stream",
          "name": "stdout",
          "text": [
            "D\n",
            "a\n",
            "t\n",
            "a\n",
            " \n",
            "S\n",
            "c\n",
            "i\n",
            "e\n",
            "n\n",
            "c\n",
            "e\n"
          ]
        }
      ]
    },
    {
      "cell_type": "markdown",
      "source": [
        "# **List**"
      ],
      "metadata": {
        "id": "bJkakuwTvXML"
      }
    },
    {
      "cell_type": "markdown",
      "source": [
        "It's a data type which contain all other data types --> [] is a symbol.\n",
        "\n",
        "List is a mutable"
      ],
      "metadata": {
        "id": "PmUThqw0vbxp"
      }
    },
    {
      "cell_type": "code",
      "source": [
        "c = [1,2,3]\n",
        "print(type(c))"
      ],
      "metadata": {
        "id": "GzFVCGYmu14G",
        "outputId": "b9a9fe7f-b797-4c67-ab7e-cf84bccc9416",
        "colab": {
          "base_uri": "https://localhost:8080/"
        }
      },
      "execution_count": null,
      "outputs": [
        {
          "output_type": "stream",
          "name": "stdout",
          "text": [
            "<class 'list'>\n"
          ]
        }
      ]
    },
    {
      "cell_type": "code",
      "source": [
        "#create a list d that conatins the number 1, 100, 200, 'Data Science' and a list 4,5,6\n",
        "d = [1, 100, 200, 'Data Science', [4, 5, 6]]\n",
        "print(type(d))\n",
        "d"
      ],
      "metadata": {
        "id": "EOR30ERXwZQh",
        "outputId": "ac324fba-5917-478c-c032-eb2e2953c4e4",
        "colab": {
          "base_uri": "https://localhost:8080/"
        }
      },
      "execution_count": null,
      "outputs": [
        {
          "output_type": "stream",
          "name": "stdout",
          "text": [
            "<class 'list'>\n"
          ]
        },
        {
          "output_type": "execute_result",
          "data": {
            "text/plain": [
              "[1, 100, 200, 'Data Science', [4, 5, 6]]"
            ]
          },
          "metadata": {},
          "execution_count": 26
        }
      ]
    },
    {
      "cell_type": "markdown",
      "source": [
        "apply index here"
      ],
      "metadata": {
        "id": "Sv0ZO8yXw96O"
      }
    },
    {
      "cell_type": "code",
      "source": [
        "print(d[2])\n",
        "print(type(d[2]))\n",
        "print(type(d[3]))\n",
        "print(type(d[4]))"
      ],
      "metadata": {
        "id": "-OwSdr_exATk",
        "outputId": "e765acc6-4e1d-4098-9eef-f4c67891ab0e",
        "colab": {
          "base_uri": "https://localhost:8080/"
        }
      },
      "execution_count": null,
      "outputs": [
        {
          "output_type": "stream",
          "name": "stdout",
          "text": [
            "200\n",
            "<class 'int'>\n",
            "<class 'str'>\n",
            "<class 'list'>\n"
          ]
        }
      ]
    },
    {
      "cell_type": "code",
      "source": [
        "#Can you print 5 using indexing\n",
        "print(d[4][1])\n",
        "#We call this as double index"
      ],
      "metadata": {
        "id": "Kwx28hiIxs7L",
        "outputId": "4f144867-5e8a-4453-832d-e5f57e47a4ff",
        "colab": {
          "base_uri": "https://localhost:8080/"
        }
      },
      "execution_count": null,
      "outputs": [
        {
          "output_type": "stream",
          "name": "stdout",
          "text": [
            "5\n"
          ]
        }
      ]
    },
    {
      "cell_type": "markdown",
      "source": [
        "# **Reverse Indexing**"
      ],
      "metadata": {
        "id": "SrDy_aaexPCM"
      }
    },
    {
      "cell_type": "code",
      "source": [
        "print(d[-1])"
      ],
      "metadata": {
        "id": "N7E5oGymxTLf",
        "outputId": "62f931dd-c99c-410f-a77e-68cdb354e6b2",
        "colab": {
          "base_uri": "https://localhost:8080/"
        }
      },
      "execution_count": null,
      "outputs": [
        {
          "output_type": "stream",
          "name": "stdout",
          "text": [
            "[4, 5, 6]\n"
          ]
        }
      ]
    },
    {
      "cell_type": "code",
      "source": [
        "#Can you print 5 using indexing\n",
        "print(d[-1][1])"
      ],
      "metadata": {
        "id": "MNFFglPTxXX_",
        "outputId": "790d153e-cedd-46be-fc24-ef9e560314c4",
        "colab": {
          "base_uri": "https://localhost:8080/"
        }
      },
      "execution_count": null,
      "outputs": [
        {
          "output_type": "stream",
          "name": "stdout",
          "text": [
            "5\n"
          ]
        }
      ]
    },
    {
      "cell_type": "markdown",
      "source": [
        "# **Tuple**"
      ],
      "metadata": {
        "id": "tZPsUU8byC8R"
      }
    },
    {
      "cell_type": "markdown",
      "source": [
        "Anything inside round brackets () is called tuple.\n",
        "\n",
        "Tuples are immutable.\n",
        "\n",
        "Tuple is faster than list\n",
        "\n",
        "It can also contain a string, list, tuple"
      ],
      "metadata": {
        "id": "WHF_EM0wyH0F"
      }
    },
    {
      "cell_type": "code",
      "source": [
        "c = (1, 2, 4.12, [1,5,6], 'India', (9, 4,2))\n",
        "print(type(c))"
      ],
      "metadata": {
        "id": "XuQ_tDJRyMEP",
        "outputId": "21aeaa36-12f1-4530-bcc1-21e10d8dcc42",
        "colab": {
          "base_uri": "https://localhost:8080/"
        }
      },
      "execution_count": null,
      "outputs": [
        {
          "output_type": "stream",
          "name": "stdout",
          "text": [
            "<class 'tuple'>\n"
          ]
        }
      ]
    },
    {
      "cell_type": "code",
      "source": [
        "d = [1, 2, 4.12, [1,5,6], 'India', (9, 4,2)]\n",
        "print(type(d))"
      ],
      "metadata": {
        "id": "ydFbHhFhydrg",
        "outputId": "bd1f3096-0008-4ee2-dabd-12717122e048",
        "colab": {
          "base_uri": "https://localhost:8080/"
        }
      },
      "execution_count": null,
      "outputs": [
        {
          "output_type": "stream",
          "name": "stdout",
          "text": [
            "<class 'list'>\n"
          ]
        }
      ]
    },
    {
      "cell_type": "code",
      "source": [
        "d[1] = 3\n",
        "print(d)"
      ],
      "metadata": {
        "id": "BWKrw-2PzTxz",
        "outputId": "cd9ccdd4-f400-4ab8-c8ad-6b1464af1233",
        "colab": {
          "base_uri": "https://localhost:8080/"
        }
      },
      "execution_count": null,
      "outputs": [
        {
          "output_type": "stream",
          "name": "stdout",
          "text": [
            "[1, 3, 4.12, [1, 5, 6], (9, 4, 2)]\n"
          ]
        }
      ]
    },
    {
      "cell_type": "code",
      "source": [
        "print(c[2])\n",
        "c[2] = 6.12 # The information inside a tuple is not changable."
      ],
      "metadata": {
        "id": "CF_FA3WwzhBI",
        "outputId": "b92e5aa6-5e78-496f-d50c-fb6e0a0cfe80",
        "colab": {
          "base_uri": "https://localhost:8080/",
          "height": 201
        }
      },
      "execution_count": null,
      "outputs": [
        {
          "output_type": "stream",
          "name": "stdout",
          "text": [
            "4.12\n"
          ]
        },
        {
          "output_type": "error",
          "ename": "TypeError",
          "evalue": "ignored",
          "traceback": [
            "\u001b[0;31m---------------------------------------------------------------------------\u001b[0m",
            "\u001b[0;31mTypeError\u001b[0m                                 Traceback (most recent call last)",
            "\u001b[0;32m<ipython-input-41-4a4d6ec4cbbd>\u001b[0m in \u001b[0;36m<module>\u001b[0;34m()\u001b[0m\n\u001b[1;32m      1\u001b[0m \u001b[0mprint\u001b[0m\u001b[0;34m(\u001b[0m\u001b[0mc\u001b[0m\u001b[0;34m[\u001b[0m\u001b[0;36m2\u001b[0m\u001b[0;34m]\u001b[0m\u001b[0;34m)\u001b[0m\u001b[0;34m\u001b[0m\u001b[0;34m\u001b[0m\u001b[0m\n\u001b[0;32m----> 2\u001b[0;31m \u001b[0mc\u001b[0m\u001b[0;34m[\u001b[0m\u001b[0;36m2\u001b[0m\u001b[0;34m]\u001b[0m \u001b[0;34m=\u001b[0m \u001b[0;36m6.12\u001b[0m\u001b[0;34m\u001b[0m\u001b[0;34m\u001b[0m\u001b[0m\n\u001b[0m",
            "\u001b[0;31mTypeError\u001b[0m: 'tuple' object does not support item assignment"
          ]
        }
      ]
    },
    {
      "cell_type": "markdown",
      "source": [
        "# **Dictionary**"
      ],
      "metadata": {
        "id": "wXkkhovE1Drn"
      }
    },
    {
      "cell_type": "markdown",
      "source": [
        "symbol is {}\n",
        "\n",
        "There is a concept of key and value\n",
        "\n",
        "It is mutable\n"
      ],
      "metadata": {
        "id": "1CLA6s3j1Grz"
      }
    },
    {
      "cell_type": "code",
      "source": [
        "a = {'Name':[1,2,3], 'Address': ['x', 'y', 'z']}\n",
        "print(type(a))\n",
        "a['Name']"
      ],
      "metadata": {
        "id": "qQb-BC5s1mO3",
        "outputId": "be8bba64-9636-435e-e02b-f82e011e7eb5",
        "colab": {
          "base_uri": "https://localhost:8080/"
        }
      },
      "execution_count": null,
      "outputs": [
        {
          "output_type": "stream",
          "name": "stdout",
          "text": [
            "<class 'dict'>\n"
          ]
        },
        {
          "output_type": "execute_result",
          "data": {
            "text/plain": [
              "[1, 2, 3]"
            ]
          },
          "metadata": {},
          "execution_count": 48
        }
      ]
    },
    {
      "cell_type": "code",
      "source": [
        "a['Name'][1] = 'check'\n",
        "a['Name']"
      ],
      "metadata": {
        "id": "3LYHHnoi2Q-R",
        "outputId": "48e36e6c-57f8-4161-8137-b96717c04981",
        "colab": {
          "base_uri": "https://localhost:8080/"
        }
      },
      "execution_count": null,
      "outputs": [
        {
          "output_type": "execute_result",
          "data": {
            "text/plain": [
              "[1, 'check', 3]"
            ]
          },
          "metadata": {},
          "execution_count": 49
        }
      ]
    },
    {
      "cell_type": "markdown",
      "source": [
        "# **Set**"
      ],
      "metadata": {
        "id": "vMb-FF8n2bPv"
      }
    },
    {
      "cell_type": "markdown",
      "source": [
        "Set only store unique numbers.\n",
        "\n",
        "It will sort in ascending order.\n",
        "\n",
        "It is immutable and subscriptable"
      ],
      "metadata": {
        "id": "AW0c50Bu2gK4"
      }
    },
    {
      "cell_type": "code",
      "source": [
        "a = {1, 3,5, 2, 5, 2}\n",
        "print(a)"
      ],
      "metadata": {
        "id": "SHtBn8My2aSW",
        "outputId": "eec84148-c33d-4b50-8ec4-e037657982b0",
        "colab": {
          "base_uri": "https://localhost:8080/"
        }
      },
      "execution_count": null,
      "outputs": [
        {
          "output_type": "stream",
          "name": "stdout",
          "text": [
            "{1, 2, 3, 5}\n"
          ]
        }
      ]
    },
    {
      "cell_type": "code",
      "source": [
        "a[1]"
      ],
      "metadata": {
        "id": "0NQ__fzzznU4",
        "outputId": "3f092119-501d-48c4-cbdf-fe7ca094f1b8",
        "colab": {
          "base_uri": "https://localhost:8080/",
          "height": 166
        }
      },
      "execution_count": null,
      "outputs": [
        {
          "output_type": "error",
          "ename": "TypeError",
          "evalue": "ignored",
          "traceback": [
            "\u001b[0;31m---------------------------------------------------------------------------\u001b[0m",
            "\u001b[0;31mTypeError\u001b[0m                                 Traceback (most recent call last)",
            "\u001b[0;32m<ipython-input-51-8bc71255a22e>\u001b[0m in \u001b[0;36m<module>\u001b[0;34m()\u001b[0m\n\u001b[0;32m----> 1\u001b[0;31m \u001b[0ma\u001b[0m\u001b[0;34m[\u001b[0m\u001b[0;36m1\u001b[0m\u001b[0;34m]\u001b[0m\u001b[0;34m\u001b[0m\u001b[0;34m\u001b[0m\u001b[0m\n\u001b[0m",
            "\u001b[0;31mTypeError\u001b[0m: 'set' object is not subscriptable"
          ]
        }
      ]
    },
    {
      "cell_type": "markdown",
      "source": [
        "# **Boolean**"
      ],
      "metadata": {
        "id": "Q4cUlTZE3K5j"
      }
    },
    {
      "cell_type": "markdown",
      "source": [
        ""
      ],
      "metadata": {
        "id": "6Jzjyg9N3NSh"
      }
    },
    {
      "cell_type": "code",
      "source": [
        "a = True\n",
        "print(type(a))"
      ],
      "metadata": {
        "id": "tiXQTRpM3KRa",
        "outputId": "0fc11393-7484-4284-d9bc-a8d36a0bada5",
        "colab": {
          "base_uri": "https://localhost:8080/"
        }
      },
      "execution_count": null,
      "outputs": [
        {
          "output_type": "stream",
          "name": "stdout",
          "text": [
            "<class 'bool'>\n"
          ]
        }
      ]
    },
    {
      "cell_type": "markdown",
      "source": [
        "# **In-Built functions**"
      ],
      "metadata": {
        "id": "jqON5cW24U3z"
      }
    },
    {
      "cell_type": "code",
      "source": [
        "a = [1, 2, 3, 'India', (a, b, c)]\n",
        "print(len(a))"
      ],
      "metadata": {
        "id": "fQWT_ha-4a-c",
        "outputId": "1fbb4545-18fa-4da0-b02b-647339f10776",
        "colab": {
          "base_uri": "https://localhost:8080/"
        }
      },
      "execution_count": null,
      "outputs": [
        {
          "output_type": "stream",
          "name": "stdout",
          "text": [
            "5\n"
          ]
        }
      ]
    },
    {
      "cell_type": "markdown",
      "source": [
        "# **Conditional Statements**"
      ],
      "metadata": {
        "id": "1eZDKn0l5qTa"
      }
    },
    {
      "cell_type": "markdown",
      "source": [
        "if \n",
        "\n",
        "elif\n",
        "\n",
        "else"
      ],
      "metadata": {
        "id": "pa8bMMUH5vhN"
      }
    },
    {
      "cell_type": "code",
      "source": [
        "x = 10\n",
        "y = 12\n",
        "\n",
        "#there is a possibility x <y or x>y or x=y\n",
        "\n",
        "if x<y:\n",
        "  print('X is less than y')\n",
        "elif x > y:\n",
        "  print('x is greater than y')\n",
        "else:\n",
        "  print('X is equals to y')"
      ],
      "metadata": {
        "id": "H1pi_XLT52bo",
        "outputId": "8bc0b8ba-9a01-4dd4-ddb1-b19c58ee30c7",
        "colab": {
          "base_uri": "https://localhost:8080/"
        }
      },
      "execution_count": null,
      "outputs": [
        {
          "output_type": "stream",
          "name": "stdout",
          "text": [
            "X is less than y\n"
          ]
        }
      ]
    },
    {
      "cell_type": "code",
      "source": [
        "# x is a number and find it is positive, negative or zero\n",
        "x = int(input('Please enter a value for X '))\n",
        "if x >0:\n",
        "  print('X is possitive')\n",
        "elif x < 0:\n",
        "  print('X is negative')\n",
        "else:\n",
        "  print('X is equals to zero')"
      ],
      "metadata": {
        "id": "jArxVGeV6-oe",
        "outputId": "203cf872-17ca-4bc6-b928-d768caf5c531",
        "colab": {
          "base_uri": "https://localhost:8080/"
        }
      },
      "execution_count": null,
      "outputs": [
        {
          "output_type": "stream",
          "name": "stdout",
          "text": [
            "Please enter a value -18\n",
            "X is negative\n"
          ]
        }
      ]
    },
    {
      "cell_type": "markdown",
      "source": [
        "# **Loops**"
      ],
      "metadata": {
        "id": "2kqWcq1o8WpG"
      }
    },
    {
      "cell_type": "markdown",
      "source": [
        "Loops allows us to execute statements."
      ],
      "metadata": {
        "id": "F_X4Q9OP8ZCw"
      }
    },
    {
      "cell_type": "markdown",
      "source": [
        "For"
      ],
      "metadata": {
        "id": "G4aR6CEH9xC6"
      }
    },
    {
      "cell_type": "code",
      "source": [
        "fruits = ['Banana', 'Apple', 'Grapes']\n",
        "\n",
        "for i in fruits:\n",
        "  print(i)"
      ],
      "metadata": {
        "id": "Eo9pvmO38ipZ",
        "outputId": "f5c3bc8a-c7d0-4629-b3e9-6a20e55df62e",
        "colab": {
          "base_uri": "https://localhost:8080/"
        }
      },
      "execution_count": null,
      "outputs": [
        {
          "output_type": "stream",
          "name": "stdout",
          "text": [
            "Banana\n",
            "Apple\n",
            "Grapes\n"
          ]
        }
      ]
    },
    {
      "cell_type": "code",
      "source": [
        "a = range(0,10)\n",
        "a"
      ],
      "metadata": {
        "id": "8Vnz2GwD87hr",
        "outputId": "56fe9bab-5cc3-4927-e7bc-b480165d2e30",
        "colab": {
          "base_uri": "https://localhost:8080/"
        }
      },
      "execution_count": null,
      "outputs": [
        {
          "output_type": "execute_result",
          "data": {
            "text/plain": [
              "range(0, 10)"
            ]
          },
          "metadata": {},
          "execution_count": 61
        }
      ]
    },
    {
      "cell_type": "code",
      "source": [
        "#Print numbers one by one between 10 -19\n",
        "for i in range(10,20):\n",
        "  print(i)"
      ],
      "metadata": {
        "id": "Y9N5zluN9D8L",
        "outputId": "86e75a17-5917-4043-e96b-079540a1177e",
        "colab": {
          "base_uri": "https://localhost:8080/"
        }
      },
      "execution_count": null,
      "outputs": [
        {
          "output_type": "stream",
          "name": "stdout",
          "text": [
            "10\n",
            "11\n",
            "12\n",
            "13\n",
            "14\n",
            "15\n",
            "16\n",
            "17\n",
            "18\n",
            "19\n"
          ]
        }
      ]
    },
    {
      "cell_type": "markdown",
      "source": [
        "While"
      ],
      "metadata": {
        "id": "v5MwN4LV9sn4"
      }
    },
    {
      "cell_type": "code",
      "source": [
        "#Print between 10 - 19\n",
        "count = 0\n",
        "while (count < 10) :\n",
        "  print(count+10)\n",
        "  count = count + 1\n",
        "\n",
        "print('loop completed')"
      ],
      "metadata": {
        "id": "aF_5OWi89SFZ",
        "outputId": "ddfbe66e-fb63-498c-d024-bde83b768bcc",
        "colab": {
          "base_uri": "https://localhost:8080/"
        }
      },
      "execution_count": null,
      "outputs": [
        {
          "output_type": "stream",
          "name": "stdout",
          "text": [
            "10\n",
            "11\n",
            "12\n",
            "13\n",
            "14\n",
            "15\n",
            "16\n",
            "17\n",
            "18\n",
            "19\n",
            "loop completed\n"
          ]
        }
      ]
    },
    {
      "cell_type": "code",
      "source": [
        "#Initilize with 1 and run it upto 10.\n",
        "# print whether the number is odd or even\n",
        "\n",
        "count = 0\n",
        "\n",
        "while (count < 10):\n",
        "  if count+10 % 2 == 0:\n",
        "    print('Then number',count+10,'is even')\n",
        "  else:\n",
        "    print('Then number',count+10,'is odd')\n",
        "  count += 1\n",
        "\n",
        "print('End of loop')"
      ],
      "metadata": {
        "id": "29rV0_UK-SaE",
        "outputId": "e94dc978-11d3-4461-a389-16c96f9d87b2",
        "colab": {
          "base_uri": "https://localhost:8080/"
        }
      },
      "execution_count": null,
      "outputs": [
        {
          "output_type": "stream",
          "name": "stdout",
          "text": [
            "Then number 10 is even\n",
            "Then number 11 is odd\n",
            "Then number 12 is odd\n",
            "Then number 13 is odd\n",
            "Then number 14 is odd\n",
            "Then number 15 is odd\n",
            "Then number 16 is odd\n",
            "Then number 17 is odd\n",
            "Then number 18 is odd\n",
            "Then number 19 is odd\n",
            "End of loop\n"
          ]
        }
      ]
    },
    {
      "cell_type": "markdown",
      "source": [
        "break, continue and pause"
      ],
      "metadata": {
        "id": "CvG-4stgAYcW"
      }
    },
    {
      "cell_type": "code",
      "source": [
        "for i in range(10, 30):\n",
        "  print(i)\n",
        "  if i == 20:\n",
        "    break"
      ],
      "metadata": {
        "id": "cMkpj1Sa_iMN",
        "outputId": "0def4c9f-19b5-43a3-a464-a10e14d4e57a",
        "colab": {
          "base_uri": "https://localhost:8080/"
        }
      },
      "execution_count": null,
      "outputs": [
        {
          "output_type": "stream",
          "name": "stdout",
          "text": [
            "10\n",
            "11\n",
            "12\n",
            "13\n",
            "14\n",
            "15\n",
            "16\n",
            "17\n",
            "18\n",
            "19\n",
            "20\n"
          ]
        }
      ]
    },
    {
      "cell_type": "code",
      "source": [
        "for i in range(0,50):\n",
        "  if i%2 == 0:\n",
        "    continue\n",
        "  print(i ,'is a odd number')\n",
        "print('End of loop')"
      ],
      "metadata": {
        "id": "1RV-nFWoAqS4",
        "outputId": "ceb0f92f-d0b7-496c-e5a8-807b1d870381",
        "colab": {
          "base_uri": "https://localhost:8080/"
        }
      },
      "execution_count": null,
      "outputs": [
        {
          "output_type": "stream",
          "name": "stdout",
          "text": [
            "1 is odd number\n",
            "3 is odd number\n",
            "5 is odd number\n",
            "7 is odd number\n",
            "9 is odd number\n",
            "11 is odd number\n",
            "13 is odd number\n",
            "15 is odd number\n",
            "17 is odd number\n",
            "19 is odd number\n",
            "21 is odd number\n",
            "23 is odd number\n",
            "25 is odd number\n",
            "27 is odd number\n",
            "29 is odd number\n",
            "31 is odd number\n",
            "33 is odd number\n",
            "35 is odd number\n",
            "37 is odd number\n",
            "39 is odd number\n",
            "41 is odd number\n",
            "43 is odd number\n",
            "45 is odd number\n",
            "47 is odd number\n",
            "49 is odd number\n",
            "End of loop\n"
          ]
        }
      ]
    },
    {
      "cell_type": "code",
      "source": [
        "# pass is used a a place holder\n",
        "for i in range(10, 30):\n",
        "  pass\n",
        "print('End of loop')\n",
        "\n"
      ],
      "metadata": {
        "id": "FJYqNf94BUv2",
        "outputId": "11a43531-7811-4194-f3ec-453c59390a64",
        "colab": {
          "base_uri": "https://localhost:8080/"
        }
      },
      "execution_count": null,
      "outputs": [
        {
          "output_type": "stream",
          "name": "stdout",
          "text": [
            "End of loop\n"
          ]
        }
      ]
    }
  ]
}