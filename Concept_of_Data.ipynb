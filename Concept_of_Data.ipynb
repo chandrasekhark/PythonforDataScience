{
  "nbformat": 4,
  "nbformat_minor": 0,
  "metadata": {
    "colab": {
      "name": "Concept_of_Data.ipynb",
      "provenance": [],
      "authorship_tag": "ABX9TyPEQyBr7i2J12f2dGV9TGWK",
      "include_colab_link": true
    },
    "kernelspec": {
      "name": "python3",
      "display_name": "Python 3"
    },
    "language_info": {
      "name": "python"
    }
  },
  "cells": [
    {
      "cell_type": "markdown",
      "metadata": {
        "id": "view-in-github",
        "colab_type": "text"
      },
      "source": [
        "<a href=\"https://colab.research.google.com/github/chandrasekhark/PythonforDataScience/blob/main/Concept_of_Data.ipynb\" target=\"_parent\"><img src=\"https://colab.research.google.com/assets/colab-badge.svg\" alt=\"Open In Colab\"/></a>"
      ]
    },
    {
      "cell_type": "markdown",
      "source": [
        "Data\n",
        "\n",
        "  Qualitative : Data are measurements, each fall into one of several categories.\n",
        "\n",
        "    Nominal : Differentiating two groups such as gender.\n",
        "\n",
        "    Ordinal : Grades are given to students according to their performance.\n",
        "    \n",
        "    ex: data with an ordered series in a table\n",
        "\n",
        "  Quantitatvie : Data measured on numerical scale. ex: distance, number of children..\n",
        "\n",
        "    Discrete : Data which can be categorized into a classification, Data which is based upon counts. \n",
        "    \n",
        "    There only a fine number of values possible and the value can't not be **subdivided**. \n",
        "    \n",
        "    ex: children in class\n",
        "\n",
        "    Continious : Data which can be measured on a continuum or a scale.\n",
        "    \n",
        "    Data which can have almost any numeric value and can be subdivided into finer and finer increments. Ex. Amount of income tax paid"
      ],
      "metadata": {
        "id": "iEsvv9n4Lqhc"
      }
    },
    {
      "cell_type": "code",
      "execution_count": 4,
      "metadata": {
        "colab": {
          "base_uri": "https://localhost:8080/"
        },
        "id": "YSFKCnVlLUq3",
        "outputId": "b18312e2-de22-441e-961a-7436e8a673e2"
      },
      "outputs": [
        {
          "output_type": "stream",
          "name": "stdout",
          "text": [
            "Would you like to go for shopping? if yes, then type Y/y else N/n y\n",
            "Do you love talking on any topic? if yes, then type Y/y else N/n y\n",
            "Welcome to club\n"
          ]
        }
      ],
      "source": [
        "#Nominal\n",
        "ans1 = input('Would you like to go for shopping? if yes, then type Y/y else N/n ')\n",
        "ans2 = input('Do you love talking on any topic? if yes, then type Y/y else N/n ')\n",
        "if (((ans1 == 'Y') | (ans1 == 'y')) & ((ans2 == 'Y') | (ans2 == 'y'))) :\n",
        "  print('Welcome to club')\n",
        "else:\n",
        "  print(\"sorry you can't join the club\")"
      ]
    },
    {
      "cell_type": "code",
      "source": [
        "#Ordinal\n",
        "marks = int(input('Enter your percentage: '))\n",
        "if marks < 40:\n",
        "  print('Fail')\n",
        "elif ((marks >=40) & (marks < 50)):\n",
        "  print('Second class')\n",
        "elif ((marks >=50) & (marks < 60)):\n",
        "  print('First class')\n",
        "elif marks >=60:\n",
        "  print('Congratulations!! you got distinction')"
      ],
      "metadata": {
        "colab": {
          "base_uri": "https://localhost:8080/"
        },
        "id": "hbaJeNQ2PWPT",
        "outputId": "c74db6ff-687c-4b55-bf80-a069a02cb835"
      },
      "execution_count": 11,
      "outputs": [
        {
          "output_type": "stream",
          "name": "stdout",
          "text": [
            "Enter your percentage: 70\n",
            "Congratulations!! you got distinction\n"
          ]
        }
      ]
    },
    {
      "cell_type": "code",
      "source": [
        ""
      ],
      "metadata": {
        "id": "rpXFBEGHRFrj"
      },
      "execution_count": null,
      "outputs": []
    }
  ]
}